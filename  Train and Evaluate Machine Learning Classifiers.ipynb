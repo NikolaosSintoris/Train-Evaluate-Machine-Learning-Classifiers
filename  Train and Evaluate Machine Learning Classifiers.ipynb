{
 "cells": [
  {
   "cell_type": "code",
   "execution_count": 1,
   "metadata": {},
   "outputs": [],
   "source": [
    "from scipy.io import arff\n",
    "import pandas as pd\n",
    "import os\n",
    "import numpy as np\n",
    "from sklearn.model_selection import train_test_split\n",
    "from sklearn.metrics import f1_score\n",
    "from sklearn.dummy import DummyClassifier\n",
    "from sklearn.naive_bayes import GaussianNB\n",
    "from sklearn.neighbors import KNeighborsClassifier\n",
    "from sklearn.linear_model import LogisticRegression\n",
    "from sklearn.neural_network import MLPClassifier\n",
    "from sklearn.svm import SVC\n",
    "import matplotlib.pyplot as plt\n",
    "from sklearn.feature_selection import VarianceThreshold\n",
    "from sklearn.preprocessing import StandardScaler,MinMaxScaler\n",
    "from imblearn.over_sampling import RandomOverSampler\n",
    "from sklearn.decomposition import PCA\n",
    "from imblearn.pipeline import Pipeline\n",
    "from sklearn.model_selection import GridSearchCV\n",
    "from sklearn.metrics import classification_report\n",
    "import warnings\n",
    "warnings.filterwarnings(\"ignore\")\n",
    "import time\n",
    "from sklearn.metrics import confusion_matrix\n",
    "import seaborn as sns"
   ]
  },
  {
   "cell_type": "markdown",
   "metadata": {},
   "source": [
    "# 1. Import Dataset\n",
    "\n",
    "#### Important Note!!\n",
    "Dataset file, myst be in the same directory with Jupyter Notebook file."
   ]
  },
  {
   "cell_type": "code",
   "execution_count": 2,
   "metadata": {},
   "outputs": [
    {
     "data": {
      "text/html": [
       "<div>\n",
       "<style scoped>\n",
       "    .dataframe tbody tr th:only-of-type {\n",
       "        vertical-align: middle;\n",
       "    }\n",
       "\n",
       "    .dataframe tbody tr th {\n",
       "        vertical-align: top;\n",
       "    }\n",
       "\n",
       "    .dataframe thead th {\n",
       "        text-align: right;\n",
       "    }\n",
       "</style>\n",
       "<table border=\"1\" class=\"dataframe\">\n",
       "  <thead>\n",
       "    <tr style=\"text-align: right;\">\n",
       "      <th></th>\n",
       "      <th>loc</th>\n",
       "      <th>v(g)</th>\n",
       "      <th>ev(g)</th>\n",
       "      <th>iv(g)</th>\n",
       "      <th>n</th>\n",
       "      <th>v</th>\n",
       "      <th>l</th>\n",
       "      <th>d</th>\n",
       "      <th>i</th>\n",
       "      <th>e</th>\n",
       "      <th>...</th>\n",
       "      <th>lOCode</th>\n",
       "      <th>lOComment</th>\n",
       "      <th>lOBlank</th>\n",
       "      <th>locCodeAndComment</th>\n",
       "      <th>uniq_Op</th>\n",
       "      <th>uniq_Opnd</th>\n",
       "      <th>total_Op</th>\n",
       "      <th>total_Opnd</th>\n",
       "      <th>branchCount</th>\n",
       "      <th>defects</th>\n",
       "    </tr>\n",
       "  </thead>\n",
       "  <tbody>\n",
       "    <tr>\n",
       "      <th>0</th>\n",
       "      <td>1.1</td>\n",
       "      <td>1.4</td>\n",
       "      <td>1.4</td>\n",
       "      <td>1.4</td>\n",
       "      <td>1.3</td>\n",
       "      <td>1.30</td>\n",
       "      <td>1.30</td>\n",
       "      <td>1.30</td>\n",
       "      <td>1.30</td>\n",
       "      <td>1.30</td>\n",
       "      <td>...</td>\n",
       "      <td>2.0</td>\n",
       "      <td>2.0</td>\n",
       "      <td>2.0</td>\n",
       "      <td>2.0</td>\n",
       "      <td>1.2</td>\n",
       "      <td>1.2</td>\n",
       "      <td>1.2</td>\n",
       "      <td>1.2</td>\n",
       "      <td>1.4</td>\n",
       "      <td>b'false'</td>\n",
       "    </tr>\n",
       "    <tr>\n",
       "      <th>1</th>\n",
       "      <td>1.0</td>\n",
       "      <td>1.0</td>\n",
       "      <td>1.0</td>\n",
       "      <td>1.0</td>\n",
       "      <td>1.0</td>\n",
       "      <td>1.00</td>\n",
       "      <td>1.00</td>\n",
       "      <td>1.00</td>\n",
       "      <td>1.00</td>\n",
       "      <td>1.00</td>\n",
       "      <td>...</td>\n",
       "      <td>1.0</td>\n",
       "      <td>1.0</td>\n",
       "      <td>1.0</td>\n",
       "      <td>1.0</td>\n",
       "      <td>1.0</td>\n",
       "      <td>1.0</td>\n",
       "      <td>1.0</td>\n",
       "      <td>1.0</td>\n",
       "      <td>1.0</td>\n",
       "      <td>b'true'</td>\n",
       "    </tr>\n",
       "    <tr>\n",
       "      <th>2</th>\n",
       "      <td>83.0</td>\n",
       "      <td>11.0</td>\n",
       "      <td>1.0</td>\n",
       "      <td>11.0</td>\n",
       "      <td>171.0</td>\n",
       "      <td>927.89</td>\n",
       "      <td>0.04</td>\n",
       "      <td>23.04</td>\n",
       "      <td>40.27</td>\n",
       "      <td>21378.61</td>\n",
       "      <td>...</td>\n",
       "      <td>65.0</td>\n",
       "      <td>10.0</td>\n",
       "      <td>6.0</td>\n",
       "      <td>0.0</td>\n",
       "      <td>18.0</td>\n",
       "      <td>25.0</td>\n",
       "      <td>107.0</td>\n",
       "      <td>64.0</td>\n",
       "      <td>21.0</td>\n",
       "      <td>b'true'</td>\n",
       "    </tr>\n",
       "    <tr>\n",
       "      <th>3</th>\n",
       "      <td>46.0</td>\n",
       "      <td>8.0</td>\n",
       "      <td>6.0</td>\n",
       "      <td>8.0</td>\n",
       "      <td>141.0</td>\n",
       "      <td>769.78</td>\n",
       "      <td>0.07</td>\n",
       "      <td>14.86</td>\n",
       "      <td>51.81</td>\n",
       "      <td>11436.73</td>\n",
       "      <td>...</td>\n",
       "      <td>37.0</td>\n",
       "      <td>2.0</td>\n",
       "      <td>5.0</td>\n",
       "      <td>0.0</td>\n",
       "      <td>16.0</td>\n",
       "      <td>28.0</td>\n",
       "      <td>89.0</td>\n",
       "      <td>52.0</td>\n",
       "      <td>15.0</td>\n",
       "      <td>b'true'</td>\n",
       "    </tr>\n",
       "    <tr>\n",
       "      <th>4</th>\n",
       "      <td>25.0</td>\n",
       "      <td>3.0</td>\n",
       "      <td>1.0</td>\n",
       "      <td>3.0</td>\n",
       "      <td>58.0</td>\n",
       "      <td>254.75</td>\n",
       "      <td>0.11</td>\n",
       "      <td>9.35</td>\n",
       "      <td>27.25</td>\n",
       "      <td>2381.95</td>\n",
       "      <td>...</td>\n",
       "      <td>21.0</td>\n",
       "      <td>0.0</td>\n",
       "      <td>2.0</td>\n",
       "      <td>0.0</td>\n",
       "      <td>11.0</td>\n",
       "      <td>10.0</td>\n",
       "      <td>41.0</td>\n",
       "      <td>17.0</td>\n",
       "      <td>5.0</td>\n",
       "      <td>b'true'</td>\n",
       "    </tr>\n",
       "    <tr>\n",
       "      <th>...</th>\n",
       "      <td>...</td>\n",
       "      <td>...</td>\n",
       "      <td>...</td>\n",
       "      <td>...</td>\n",
       "      <td>...</td>\n",
       "      <td>...</td>\n",
       "      <td>...</td>\n",
       "      <td>...</td>\n",
       "      <td>...</td>\n",
       "      <td>...</td>\n",
       "      <td>...</td>\n",
       "      <td>...</td>\n",
       "      <td>...</td>\n",
       "      <td>...</td>\n",
       "      <td>...</td>\n",
       "      <td>...</td>\n",
       "      <td>...</td>\n",
       "      <td>...</td>\n",
       "      <td>...</td>\n",
       "      <td>...</td>\n",
       "      <td>...</td>\n",
       "    </tr>\n",
       "    <tr>\n",
       "      <th>2104</th>\n",
       "      <td>19.0</td>\n",
       "      <td>2.0</td>\n",
       "      <td>1.0</td>\n",
       "      <td>2.0</td>\n",
       "      <td>40.0</td>\n",
       "      <td>175.69</td>\n",
       "      <td>0.15</td>\n",
       "      <td>6.82</td>\n",
       "      <td>25.77</td>\n",
       "      <td>1197.90</td>\n",
       "      <td>...</td>\n",
       "      <td>12.0</td>\n",
       "      <td>1.0</td>\n",
       "      <td>2.0</td>\n",
       "      <td>0.0</td>\n",
       "      <td>10.0</td>\n",
       "      <td>11.0</td>\n",
       "      <td>25.0</td>\n",
       "      <td>15.0</td>\n",
       "      <td>3.0</td>\n",
       "      <td>b'false'</td>\n",
       "    </tr>\n",
       "    <tr>\n",
       "      <th>2105</th>\n",
       "      <td>23.0</td>\n",
       "      <td>3.0</td>\n",
       "      <td>3.0</td>\n",
       "      <td>3.0</td>\n",
       "      <td>60.0</td>\n",
       "      <td>278.63</td>\n",
       "      <td>0.10</td>\n",
       "      <td>9.69</td>\n",
       "      <td>28.75</td>\n",
       "      <td>2700.58</td>\n",
       "      <td>...</td>\n",
       "      <td>18.0</td>\n",
       "      <td>1.0</td>\n",
       "      <td>2.0</td>\n",
       "      <td>0.0</td>\n",
       "      <td>12.0</td>\n",
       "      <td>13.0</td>\n",
       "      <td>39.0</td>\n",
       "      <td>21.0</td>\n",
       "      <td>5.0</td>\n",
       "      <td>b'false'</td>\n",
       "    </tr>\n",
       "    <tr>\n",
       "      <th>2106</th>\n",
       "      <td>2.0</td>\n",
       "      <td>1.0</td>\n",
       "      <td>1.0</td>\n",
       "      <td>1.0</td>\n",
       "      <td>4.0</td>\n",
       "      <td>8.00</td>\n",
       "      <td>0.67</td>\n",
       "      <td>1.50</td>\n",
       "      <td>5.33</td>\n",
       "      <td>12.00</td>\n",
       "      <td>...</td>\n",
       "      <td>0.0</td>\n",
       "      <td>0.0</td>\n",
       "      <td>0.0</td>\n",
       "      <td>0.0</td>\n",
       "      <td>3.0</td>\n",
       "      <td>1.0</td>\n",
       "      <td>3.0</td>\n",
       "      <td>1.0</td>\n",
       "      <td>1.0</td>\n",
       "      <td>b'false'</td>\n",
       "    </tr>\n",
       "    <tr>\n",
       "      <th>2107</th>\n",
       "      <td>13.0</td>\n",
       "      <td>1.0</td>\n",
       "      <td>1.0</td>\n",
       "      <td>1.0</td>\n",
       "      <td>17.0</td>\n",
       "      <td>60.94</td>\n",
       "      <td>0.25</td>\n",
       "      <td>4.00</td>\n",
       "      <td>15.24</td>\n",
       "      <td>243.78</td>\n",
       "      <td>...</td>\n",
       "      <td>6.0</td>\n",
       "      <td>0.0</td>\n",
       "      <td>5.0</td>\n",
       "      <td>0.0</td>\n",
       "      <td>6.0</td>\n",
       "      <td>6.0</td>\n",
       "      <td>9.0</td>\n",
       "      <td>8.0</td>\n",
       "      <td>1.0</td>\n",
       "      <td>b'false'</td>\n",
       "    </tr>\n",
       "    <tr>\n",
       "      <th>2108</th>\n",
       "      <td>11.0</td>\n",
       "      <td>2.0</td>\n",
       "      <td>1.0</td>\n",
       "      <td>2.0</td>\n",
       "      <td>27.0</td>\n",
       "      <td>102.80</td>\n",
       "      <td>0.17</td>\n",
       "      <td>6.00</td>\n",
       "      <td>17.13</td>\n",
       "      <td>616.79</td>\n",
       "      <td>...</td>\n",
       "      <td>9.0</td>\n",
       "      <td>0.0</td>\n",
       "      <td>0.0</td>\n",
       "      <td>0.0</td>\n",
       "      <td>8.0</td>\n",
       "      <td>6.0</td>\n",
       "      <td>18.0</td>\n",
       "      <td>9.0</td>\n",
       "      <td>3.0</td>\n",
       "      <td>b'false'</td>\n",
       "    </tr>\n",
       "  </tbody>\n",
       "</table>\n",
       "<p>2109 rows × 22 columns</p>\n",
       "</div>"
      ],
      "text/plain": [
       "       loc  v(g)  ev(g)  iv(g)      n       v     l      d      i         e  \\\n",
       "0      1.1   1.4    1.4    1.4    1.3    1.30  1.30   1.30   1.30      1.30   \n",
       "1      1.0   1.0    1.0    1.0    1.0    1.00  1.00   1.00   1.00      1.00   \n",
       "2     83.0  11.0    1.0   11.0  171.0  927.89  0.04  23.04  40.27  21378.61   \n",
       "3     46.0   8.0    6.0    8.0  141.0  769.78  0.07  14.86  51.81  11436.73   \n",
       "4     25.0   3.0    1.0    3.0   58.0  254.75  0.11   9.35  27.25   2381.95   \n",
       "...    ...   ...    ...    ...    ...     ...   ...    ...    ...       ...   \n",
       "2104  19.0   2.0    1.0    2.0   40.0  175.69  0.15   6.82  25.77   1197.90   \n",
       "2105  23.0   3.0    3.0    3.0   60.0  278.63  0.10   9.69  28.75   2700.58   \n",
       "2106   2.0   1.0    1.0    1.0    4.0    8.00  0.67   1.50   5.33     12.00   \n",
       "2107  13.0   1.0    1.0    1.0   17.0   60.94  0.25   4.00  15.24    243.78   \n",
       "2108  11.0   2.0    1.0    2.0   27.0  102.80  0.17   6.00  17.13    616.79   \n",
       "\n",
       "      ...  lOCode  lOComment  lOBlank  locCodeAndComment  uniq_Op  uniq_Opnd  \\\n",
       "0     ...     2.0        2.0      2.0                2.0      1.2        1.2   \n",
       "1     ...     1.0        1.0      1.0                1.0      1.0        1.0   \n",
       "2     ...    65.0       10.0      6.0                0.0     18.0       25.0   \n",
       "3     ...    37.0        2.0      5.0                0.0     16.0       28.0   \n",
       "4     ...    21.0        0.0      2.0                0.0     11.0       10.0   \n",
       "...   ...     ...        ...      ...                ...      ...        ...   \n",
       "2104  ...    12.0        1.0      2.0                0.0     10.0       11.0   \n",
       "2105  ...    18.0        1.0      2.0                0.0     12.0       13.0   \n",
       "2106  ...     0.0        0.0      0.0                0.0      3.0        1.0   \n",
       "2107  ...     6.0        0.0      5.0                0.0      6.0        6.0   \n",
       "2108  ...     9.0        0.0      0.0                0.0      8.0        6.0   \n",
       "\n",
       "      total_Op  total_Opnd  branchCount   defects  \n",
       "0          1.2         1.2          1.4  b'false'  \n",
       "1          1.0         1.0          1.0   b'true'  \n",
       "2        107.0        64.0         21.0   b'true'  \n",
       "3         89.0        52.0         15.0   b'true'  \n",
       "4         41.0        17.0          5.0   b'true'  \n",
       "...        ...         ...          ...       ...  \n",
       "2104      25.0        15.0          3.0  b'false'  \n",
       "2105      39.0        21.0          5.0  b'false'  \n",
       "2106       3.0         1.0          1.0  b'false'  \n",
       "2107       9.0         8.0          1.0  b'false'  \n",
       "2108      18.0         9.0          3.0  b'false'  \n",
       "\n",
       "[2109 rows x 22 columns]"
      ]
     },
     "execution_count": 2,
     "metadata": {},
     "output_type": "execute_result"
    }
   ],
   "source": [
    "current_working_directory = os.getcwd()\n",
    "dataset_file_name = \"\\\\data\\\\kc1.arff\"\n",
    "\n",
    "data = arff.loadarff(current_working_directory + dataset_file_name)\n",
    "df = pd.DataFrame(data[0])\n",
    "df"
   ]
  },
  {
   "cell_type": "markdown",
   "metadata": {},
   "source": [
    "# 2. Overview \n",
    "\n",
    "#### 2.1 Description\n",
    "<ins>KC1 Software defect prediction:</ins> <br>\n",
    "One of the NASA Metrics Data Program defect data sets. Data from software for storage management to download and process terrain data. The data comes from the McCabe and Halstead source code feature exporters. These characteristics were defined in the 1970s in an attempt to objectively characterize code characteristics related to software quality.\n",
    "\n",
    "This data is used to train classifiers in order to recognize whether a module has defects or not. Module is the smallest unit of functionality. In C or Smalltalk, modules would be called \"function\" or \"method\" respectively.\n",
    "\n",
    "#### 2.2 Attribute Information\n",
    "Our data consists of 2109 data samples where each sample contains 22 features of which 5 different metrics for lines of code, 3 McCabe metrics, 4 base Halstead metrics, 8 derived Halstead metrics, a branch-count , and 1 category. The features are as follows:\n",
    "1. loc: numeric % McCabe's line count of code\n",
    "2. v(g): numeric % McCabe \"cyclomatic complexity\"\n",
    "3. ev(g): numeric % McCabe \"essential complexity\"\n",
    "4. iv(g): numeric % McCabe \"design complexity\"\n",
    "5. n: numeric % Halstead total operators + operands\n",
    "6. v: numeric % Halstead \"volume\"\n",
    "7. l: numeric % Halstead \"program length\"\n",
    "8. d: numeric % Halstead \"difficulty\"\n",
    "9. i: numeric % Halstead \"intelligence\"\n",
    "10. e: numeric % Halstead \"effort\"\n",
    "11. b: numeric % Halstead \n",
    "12. t: numeric % Halstead's time estimator\n",
    "13. lOCode: numeric % Halstead's line count\n",
    "14. lOComment: numeric % Halstead's count of lines of comments\n",
    "15. lOBlank: numeric % Halstead's count of blank lines\n",
    "16. lOCodeAndComment: numeric\n",
    "17. uniq_Op: numeric % unique operators\n",
    "18. uniq_Opnd: numeric % unique operands\n",
    "19. total_Op: numeric % total operators\n",
    "20. total_Opnd: numeric % total operands\n",
    "21. branchCount: numeric % of the flow graph\n",
    "22. problems: {false,true}% module has/has not one or more reported defects\n",
    "\n",
    "All attributes have numeric values except the last attribute called defects which takes the values \"btrue\" and \"bfalse\". This last feature also constitutes the labels of the samples."
   ]
  },
  {
   "cell_type": "code",
   "execution_count": 3,
   "metadata": {},
   "outputs": [
    {
     "name": "stdout",
     "output_type": "stream",
     "text": [
      "Number of data samples: 2109\n",
      "Number of features: 22\n"
     ]
    }
   ],
   "source": [
    "print(\"Number of data samples: {}\\nNumber of features: {}\".format(df.shape[0], df.shape[1]))"
   ]
  },
  {
   "cell_type": "markdown",
   "metadata": {},
   "source": [
    "Also from the description of our data we know that there are no missing values."
   ]
  },
  {
   "cell_type": "code",
   "execution_count": 4,
   "metadata": {},
   "outputs": [
    {
     "name": "stdout",
     "output_type": "stream",
     "text": [
      "<class 'pandas.core.frame.DataFrame'>\n",
      "RangeIndex: 2109 entries, 0 to 2108\n",
      "Data columns (total 22 columns):\n",
      " #   Column             Non-Null Count  Dtype  \n",
      "---  ------             --------------  -----  \n",
      " 0   loc                2109 non-null   float64\n",
      " 1   v(g)               2109 non-null   float64\n",
      " 2   ev(g)              2109 non-null   float64\n",
      " 3   iv(g)              2109 non-null   float64\n",
      " 4   n                  2109 non-null   float64\n",
      " 5   v                  2109 non-null   float64\n",
      " 6   l                  2109 non-null   float64\n",
      " 7   d                  2109 non-null   float64\n",
      " 8   i                  2109 non-null   float64\n",
      " 9   e                  2109 non-null   float64\n",
      " 10  b                  2109 non-null   float64\n",
      " 11  t                  2109 non-null   float64\n",
      " 12  lOCode             2109 non-null   float64\n",
      " 13  lOComment          2109 non-null   float64\n",
      " 14  lOBlank            2109 non-null   float64\n",
      " 15  locCodeAndComment  2109 non-null   float64\n",
      " 16  uniq_Op            2109 non-null   float64\n",
      " 17  uniq_Opnd          2109 non-null   float64\n",
      " 18  total_Op           2109 non-null   float64\n",
      " 19  total_Opnd         2109 non-null   float64\n",
      " 20  branchCount        2109 non-null   float64\n",
      " 21  defects            2109 non-null   object \n",
      "dtypes: float64(21), object(1)\n",
      "memory usage: 362.6+ KB\n"
     ]
    }
   ],
   "source": [
    "df.info()"
   ]
  },
  {
   "cell_type": "markdown",
   "metadata": {},
   "source": [
    "#### 2.3 Class Distribution\n",
    "\n",
    "It is very important to check if our data set is balanced.<br>\n",
    "We observe that it is not, as there are 1783 samples of the b'false' class corresponding to 84.54% of the total dataset, while there are only 326 samples of the b'true' class corresponding to 15.45% of the total dataset."
   ]
  },
  {
   "cell_type": "code",
   "execution_count": 5,
   "metadata": {},
   "outputs": [
    {
     "name": "stdout",
     "output_type": "stream",
     "text": [
      "For class: b'false'\n",
      "\tNumber of data samples: 1783\n",
      "\tPercentage of dataset: 84.54243717401611%\n",
      "For class: b'true'\n",
      "\tNumber of data samples: 326\n",
      "\tPercentage of dataset: 15.457562825983878%\n"
     ]
    }
   ],
   "source": [
    "for label in [b'false', b'true']:\n",
    "    number_of_samples = sum(df[\"defects\"] == label)\n",
    "    print(\"For class: {}\\n\\tNumber of data samples: {}\\n\\tPercentage of dataset: {}%\".format(label, number_of_samples, number_of_samples*100/df.shape[0]))"
   ]
  },
  {
   "cell_type": "markdown",
   "metadata": {},
   "source": [
    "# 3. Preprocesing"
   ]
  },
  {
   "cell_type": "markdown",
   "metadata": {},
   "source": [
    "#### 3.1 Convert Categorical Variables\n",
    "\n",
    "First, it is very important to convert the **defects** feature, which is also the label of the sample, to an integer so that the machine learning algorithms can handle it.<br>\n",
    "This attribute takes the values {b'false', b'true'}.<br>\n",
    "We will convert it so that 0 represents the value b'false' and 1 represents the value b'true'."
   ]
  },
  {
   "cell_type": "code",
   "execution_count": 6,
   "metadata": {},
   "outputs": [],
   "source": [
    "# Replace value b'false' with 0, and value b'true' with 1.\n",
    "df[\"defects\"] = np.where(df[\"defects\"] == b'false', 0, 1)"
   ]
  },
  {
   "cell_type": "code",
   "execution_count": 7,
   "metadata": {},
   "outputs": [
    {
     "name": "stdout",
     "output_type": "stream",
     "text": [
      "<class 'pandas.core.frame.DataFrame'>\n",
      "RangeIndex: 2109 entries, 0 to 2108\n",
      "Data columns (total 22 columns):\n",
      " #   Column             Non-Null Count  Dtype  \n",
      "---  ------             --------------  -----  \n",
      " 0   loc                2109 non-null   float64\n",
      " 1   v(g)               2109 non-null   float64\n",
      " 2   ev(g)              2109 non-null   float64\n",
      " 3   iv(g)              2109 non-null   float64\n",
      " 4   n                  2109 non-null   float64\n",
      " 5   v                  2109 non-null   float64\n",
      " 6   l                  2109 non-null   float64\n",
      " 7   d                  2109 non-null   float64\n",
      " 8   i                  2109 non-null   float64\n",
      " 9   e                  2109 non-null   float64\n",
      " 10  b                  2109 non-null   float64\n",
      " 11  t                  2109 non-null   float64\n",
      " 12  lOCode             2109 non-null   float64\n",
      " 13  lOComment          2109 non-null   float64\n",
      " 14  lOBlank            2109 non-null   float64\n",
      " 15  locCodeAndComment  2109 non-null   float64\n",
      " 16  uniq_Op            2109 non-null   float64\n",
      " 17  uniq_Opnd          2109 non-null   float64\n",
      " 18  total_Op           2109 non-null   float64\n",
      " 19  total_Opnd         2109 non-null   float64\n",
      " 20  branchCount        2109 non-null   float64\n",
      " 21  defects            2109 non-null   int32  \n",
      "dtypes: float64(21), int32(1)\n",
      "memory usage: 354.4 KB\n"
     ]
    }
   ],
   "source": [
    "df.info()"
   ]
  },
  {
   "cell_type": "markdown",
   "metadata": {},
   "source": [
    "Now our data has the following form."
   ]
  },
  {
   "cell_type": "code",
   "execution_count": 8,
   "metadata": {},
   "outputs": [
    {
     "data": {
      "text/html": [
       "<div>\n",
       "<style scoped>\n",
       "    .dataframe tbody tr th:only-of-type {\n",
       "        vertical-align: middle;\n",
       "    }\n",
       "\n",
       "    .dataframe tbody tr th {\n",
       "        vertical-align: top;\n",
       "    }\n",
       "\n",
       "    .dataframe thead th {\n",
       "        text-align: right;\n",
       "    }\n",
       "</style>\n",
       "<table border=\"1\" class=\"dataframe\">\n",
       "  <thead>\n",
       "    <tr style=\"text-align: right;\">\n",
       "      <th></th>\n",
       "      <th>loc</th>\n",
       "      <th>v(g)</th>\n",
       "      <th>ev(g)</th>\n",
       "      <th>iv(g)</th>\n",
       "      <th>n</th>\n",
       "      <th>v</th>\n",
       "      <th>l</th>\n",
       "      <th>d</th>\n",
       "      <th>i</th>\n",
       "      <th>e</th>\n",
       "      <th>...</th>\n",
       "      <th>lOCode</th>\n",
       "      <th>lOComment</th>\n",
       "      <th>lOBlank</th>\n",
       "      <th>locCodeAndComment</th>\n",
       "      <th>uniq_Op</th>\n",
       "      <th>uniq_Opnd</th>\n",
       "      <th>total_Op</th>\n",
       "      <th>total_Opnd</th>\n",
       "      <th>branchCount</th>\n",
       "      <th>defects</th>\n",
       "    </tr>\n",
       "  </thead>\n",
       "  <tbody>\n",
       "    <tr>\n",
       "      <th>0</th>\n",
       "      <td>1.1</td>\n",
       "      <td>1.4</td>\n",
       "      <td>1.4</td>\n",
       "      <td>1.4</td>\n",
       "      <td>1.3</td>\n",
       "      <td>1.30</td>\n",
       "      <td>1.30</td>\n",
       "      <td>1.30</td>\n",
       "      <td>1.30</td>\n",
       "      <td>1.30</td>\n",
       "      <td>...</td>\n",
       "      <td>2.0</td>\n",
       "      <td>2.0</td>\n",
       "      <td>2.0</td>\n",
       "      <td>2.0</td>\n",
       "      <td>1.2</td>\n",
       "      <td>1.2</td>\n",
       "      <td>1.2</td>\n",
       "      <td>1.2</td>\n",
       "      <td>1.4</td>\n",
       "      <td>0</td>\n",
       "    </tr>\n",
       "    <tr>\n",
       "      <th>1</th>\n",
       "      <td>1.0</td>\n",
       "      <td>1.0</td>\n",
       "      <td>1.0</td>\n",
       "      <td>1.0</td>\n",
       "      <td>1.0</td>\n",
       "      <td>1.00</td>\n",
       "      <td>1.00</td>\n",
       "      <td>1.00</td>\n",
       "      <td>1.00</td>\n",
       "      <td>1.00</td>\n",
       "      <td>...</td>\n",
       "      <td>1.0</td>\n",
       "      <td>1.0</td>\n",
       "      <td>1.0</td>\n",
       "      <td>1.0</td>\n",
       "      <td>1.0</td>\n",
       "      <td>1.0</td>\n",
       "      <td>1.0</td>\n",
       "      <td>1.0</td>\n",
       "      <td>1.0</td>\n",
       "      <td>1</td>\n",
       "    </tr>\n",
       "    <tr>\n",
       "      <th>2</th>\n",
       "      <td>83.0</td>\n",
       "      <td>11.0</td>\n",
       "      <td>1.0</td>\n",
       "      <td>11.0</td>\n",
       "      <td>171.0</td>\n",
       "      <td>927.89</td>\n",
       "      <td>0.04</td>\n",
       "      <td>23.04</td>\n",
       "      <td>40.27</td>\n",
       "      <td>21378.61</td>\n",
       "      <td>...</td>\n",
       "      <td>65.0</td>\n",
       "      <td>10.0</td>\n",
       "      <td>6.0</td>\n",
       "      <td>0.0</td>\n",
       "      <td>18.0</td>\n",
       "      <td>25.0</td>\n",
       "      <td>107.0</td>\n",
       "      <td>64.0</td>\n",
       "      <td>21.0</td>\n",
       "      <td>1</td>\n",
       "    </tr>\n",
       "    <tr>\n",
       "      <th>3</th>\n",
       "      <td>46.0</td>\n",
       "      <td>8.0</td>\n",
       "      <td>6.0</td>\n",
       "      <td>8.0</td>\n",
       "      <td>141.0</td>\n",
       "      <td>769.78</td>\n",
       "      <td>0.07</td>\n",
       "      <td>14.86</td>\n",
       "      <td>51.81</td>\n",
       "      <td>11436.73</td>\n",
       "      <td>...</td>\n",
       "      <td>37.0</td>\n",
       "      <td>2.0</td>\n",
       "      <td>5.0</td>\n",
       "      <td>0.0</td>\n",
       "      <td>16.0</td>\n",
       "      <td>28.0</td>\n",
       "      <td>89.0</td>\n",
       "      <td>52.0</td>\n",
       "      <td>15.0</td>\n",
       "      <td>1</td>\n",
       "    </tr>\n",
       "    <tr>\n",
       "      <th>4</th>\n",
       "      <td>25.0</td>\n",
       "      <td>3.0</td>\n",
       "      <td>1.0</td>\n",
       "      <td>3.0</td>\n",
       "      <td>58.0</td>\n",
       "      <td>254.75</td>\n",
       "      <td>0.11</td>\n",
       "      <td>9.35</td>\n",
       "      <td>27.25</td>\n",
       "      <td>2381.95</td>\n",
       "      <td>...</td>\n",
       "      <td>21.0</td>\n",
       "      <td>0.0</td>\n",
       "      <td>2.0</td>\n",
       "      <td>0.0</td>\n",
       "      <td>11.0</td>\n",
       "      <td>10.0</td>\n",
       "      <td>41.0</td>\n",
       "      <td>17.0</td>\n",
       "      <td>5.0</td>\n",
       "      <td>1</td>\n",
       "    </tr>\n",
       "    <tr>\n",
       "      <th>...</th>\n",
       "      <td>...</td>\n",
       "      <td>...</td>\n",
       "      <td>...</td>\n",
       "      <td>...</td>\n",
       "      <td>...</td>\n",
       "      <td>...</td>\n",
       "      <td>...</td>\n",
       "      <td>...</td>\n",
       "      <td>...</td>\n",
       "      <td>...</td>\n",
       "      <td>...</td>\n",
       "      <td>...</td>\n",
       "      <td>...</td>\n",
       "      <td>...</td>\n",
       "      <td>...</td>\n",
       "      <td>...</td>\n",
       "      <td>...</td>\n",
       "      <td>...</td>\n",
       "      <td>...</td>\n",
       "      <td>...</td>\n",
       "      <td>...</td>\n",
       "    </tr>\n",
       "    <tr>\n",
       "      <th>2104</th>\n",
       "      <td>19.0</td>\n",
       "      <td>2.0</td>\n",
       "      <td>1.0</td>\n",
       "      <td>2.0</td>\n",
       "      <td>40.0</td>\n",
       "      <td>175.69</td>\n",
       "      <td>0.15</td>\n",
       "      <td>6.82</td>\n",
       "      <td>25.77</td>\n",
       "      <td>1197.90</td>\n",
       "      <td>...</td>\n",
       "      <td>12.0</td>\n",
       "      <td>1.0</td>\n",
       "      <td>2.0</td>\n",
       "      <td>0.0</td>\n",
       "      <td>10.0</td>\n",
       "      <td>11.0</td>\n",
       "      <td>25.0</td>\n",
       "      <td>15.0</td>\n",
       "      <td>3.0</td>\n",
       "      <td>0</td>\n",
       "    </tr>\n",
       "    <tr>\n",
       "      <th>2105</th>\n",
       "      <td>23.0</td>\n",
       "      <td>3.0</td>\n",
       "      <td>3.0</td>\n",
       "      <td>3.0</td>\n",
       "      <td>60.0</td>\n",
       "      <td>278.63</td>\n",
       "      <td>0.10</td>\n",
       "      <td>9.69</td>\n",
       "      <td>28.75</td>\n",
       "      <td>2700.58</td>\n",
       "      <td>...</td>\n",
       "      <td>18.0</td>\n",
       "      <td>1.0</td>\n",
       "      <td>2.0</td>\n",
       "      <td>0.0</td>\n",
       "      <td>12.0</td>\n",
       "      <td>13.0</td>\n",
       "      <td>39.0</td>\n",
       "      <td>21.0</td>\n",
       "      <td>5.0</td>\n",
       "      <td>0</td>\n",
       "    </tr>\n",
       "    <tr>\n",
       "      <th>2106</th>\n",
       "      <td>2.0</td>\n",
       "      <td>1.0</td>\n",
       "      <td>1.0</td>\n",
       "      <td>1.0</td>\n",
       "      <td>4.0</td>\n",
       "      <td>8.00</td>\n",
       "      <td>0.67</td>\n",
       "      <td>1.50</td>\n",
       "      <td>5.33</td>\n",
       "      <td>12.00</td>\n",
       "      <td>...</td>\n",
       "      <td>0.0</td>\n",
       "      <td>0.0</td>\n",
       "      <td>0.0</td>\n",
       "      <td>0.0</td>\n",
       "      <td>3.0</td>\n",
       "      <td>1.0</td>\n",
       "      <td>3.0</td>\n",
       "      <td>1.0</td>\n",
       "      <td>1.0</td>\n",
       "      <td>0</td>\n",
       "    </tr>\n",
       "    <tr>\n",
       "      <th>2107</th>\n",
       "      <td>13.0</td>\n",
       "      <td>1.0</td>\n",
       "      <td>1.0</td>\n",
       "      <td>1.0</td>\n",
       "      <td>17.0</td>\n",
       "      <td>60.94</td>\n",
       "      <td>0.25</td>\n",
       "      <td>4.00</td>\n",
       "      <td>15.24</td>\n",
       "      <td>243.78</td>\n",
       "      <td>...</td>\n",
       "      <td>6.0</td>\n",
       "      <td>0.0</td>\n",
       "      <td>5.0</td>\n",
       "      <td>0.0</td>\n",
       "      <td>6.0</td>\n",
       "      <td>6.0</td>\n",
       "      <td>9.0</td>\n",
       "      <td>8.0</td>\n",
       "      <td>1.0</td>\n",
       "      <td>0</td>\n",
       "    </tr>\n",
       "    <tr>\n",
       "      <th>2108</th>\n",
       "      <td>11.0</td>\n",
       "      <td>2.0</td>\n",
       "      <td>1.0</td>\n",
       "      <td>2.0</td>\n",
       "      <td>27.0</td>\n",
       "      <td>102.80</td>\n",
       "      <td>0.17</td>\n",
       "      <td>6.00</td>\n",
       "      <td>17.13</td>\n",
       "      <td>616.79</td>\n",
       "      <td>...</td>\n",
       "      <td>9.0</td>\n",
       "      <td>0.0</td>\n",
       "      <td>0.0</td>\n",
       "      <td>0.0</td>\n",
       "      <td>8.0</td>\n",
       "      <td>6.0</td>\n",
       "      <td>18.0</td>\n",
       "      <td>9.0</td>\n",
       "      <td>3.0</td>\n",
       "      <td>0</td>\n",
       "    </tr>\n",
       "  </tbody>\n",
       "</table>\n",
       "<p>2109 rows × 22 columns</p>\n",
       "</div>"
      ],
      "text/plain": [
       "       loc  v(g)  ev(g)  iv(g)      n       v     l      d      i         e  \\\n",
       "0      1.1   1.4    1.4    1.4    1.3    1.30  1.30   1.30   1.30      1.30   \n",
       "1      1.0   1.0    1.0    1.0    1.0    1.00  1.00   1.00   1.00      1.00   \n",
       "2     83.0  11.0    1.0   11.0  171.0  927.89  0.04  23.04  40.27  21378.61   \n",
       "3     46.0   8.0    6.0    8.0  141.0  769.78  0.07  14.86  51.81  11436.73   \n",
       "4     25.0   3.0    1.0    3.0   58.0  254.75  0.11   9.35  27.25   2381.95   \n",
       "...    ...   ...    ...    ...    ...     ...   ...    ...    ...       ...   \n",
       "2104  19.0   2.0    1.0    2.0   40.0  175.69  0.15   6.82  25.77   1197.90   \n",
       "2105  23.0   3.0    3.0    3.0   60.0  278.63  0.10   9.69  28.75   2700.58   \n",
       "2106   2.0   1.0    1.0    1.0    4.0    8.00  0.67   1.50   5.33     12.00   \n",
       "2107  13.0   1.0    1.0    1.0   17.0   60.94  0.25   4.00  15.24    243.78   \n",
       "2108  11.0   2.0    1.0    2.0   27.0  102.80  0.17   6.00  17.13    616.79   \n",
       "\n",
       "      ...  lOCode  lOComment  lOBlank  locCodeAndComment  uniq_Op  uniq_Opnd  \\\n",
       "0     ...     2.0        2.0      2.0                2.0      1.2        1.2   \n",
       "1     ...     1.0        1.0      1.0                1.0      1.0        1.0   \n",
       "2     ...    65.0       10.0      6.0                0.0     18.0       25.0   \n",
       "3     ...    37.0        2.0      5.0                0.0     16.0       28.0   \n",
       "4     ...    21.0        0.0      2.0                0.0     11.0       10.0   \n",
       "...   ...     ...        ...      ...                ...      ...        ...   \n",
       "2104  ...    12.0        1.0      2.0                0.0     10.0       11.0   \n",
       "2105  ...    18.0        1.0      2.0                0.0     12.0       13.0   \n",
       "2106  ...     0.0        0.0      0.0                0.0      3.0        1.0   \n",
       "2107  ...     6.0        0.0      5.0                0.0      6.0        6.0   \n",
       "2108  ...     9.0        0.0      0.0                0.0      8.0        6.0   \n",
       "\n",
       "      total_Op  total_Opnd  branchCount  defects  \n",
       "0          1.2         1.2          1.4        0  \n",
       "1          1.0         1.0          1.0        1  \n",
       "2        107.0        64.0         21.0        1  \n",
       "3         89.0        52.0         15.0        1  \n",
       "4         41.0        17.0          5.0        1  \n",
       "...        ...         ...          ...      ...  \n",
       "2104      25.0        15.0          3.0        0  \n",
       "2105      39.0        21.0          5.0        0  \n",
       "2106       3.0         1.0          1.0        0  \n",
       "2107       9.0         8.0          1.0        0  \n",
       "2108      18.0         9.0          3.0        0  \n",
       "\n",
       "[2109 rows x 22 columns]"
      ]
     },
     "execution_count": 8,
     "metadata": {},
     "output_type": "execute_result"
    }
   ],
   "source": [
    "df"
   ]
  },
  {
   "cell_type": "markdown",
   "metadata": {},
   "source": [
    "#### 3.2 Separation of Dataset\n",
    "\n",
    "Next we will split the dataset into 2 sub-sets.<br>\n",
    "We will have the training set (Train Dataset), with which we will train (Training Stage) the machine learning algorithms that we will use later, and the control set (Test Dataset) with which we will evaluate them (Evaluation Stage)."
   ]
  },
  {
   "cell_type": "code",
   "execution_count": 9,
   "metadata": {},
   "outputs": [],
   "source": [
    "# Store the names of all the features.\n",
    "feature_names_lst = list(df.columns)[:-1]\n",
    "# Store the name of the class.\n",
    "class_name = list(df.columns)[-1]"
   ]
  },
  {
   "cell_type": "code",
   "execution_count": 10,
   "metadata": {},
   "outputs": [],
   "source": [
    "# Split data to training and test set. Test set is 30% of total data.\n",
    "# shuffle = True: shuffle the data before splitting.\n",
    "X_train, X_test, y_train, y_test = train_test_split(df[feature_names_lst], df[class_name], test_size =0.3, shuffle = True)"
   ]
  },
  {
   "cell_type": "code",
   "execution_count": 11,
   "metadata": {},
   "outputs": [],
   "source": [
    "# Convert dataframes to numpy arrays.\n",
    "X_train_np = X_train.to_numpy()\n",
    "y_train_np = y_train.to_numpy()\n",
    "X_test_np = X_test.to_numpy()\n",
    "y_test_np = y_test.to_numpy()"
   ]
  },
  {
   "cell_type": "code",
   "execution_count": 12,
   "metadata": {},
   "outputs": [
    {
     "name": "stdout",
     "output_type": "stream",
     "text": [
      "Number of train samples: 1476\n",
      "Number of test samples: 633\n"
     ]
    }
   ],
   "source": [
    "print(\"Number of train samples: {}\\nNumber of test samples: {}\".format(X_train_np.shape[0], X_test_np.shape[0]))"
   ]
  },
  {
   "cell_type": "markdown",
   "metadata": {},
   "source": [
    "#### Therefore, the training dataset consists of 1476 samples while the test dataset consists of 633 samples."
   ]
  },
  {
   "cell_type": "markdown",
   "metadata": {},
   "source": [
    "# 4. Training without optimization (Out of the box)\n",
    "\n",
    "First we will see how the classifiers behave without any optimization (out-of-the-box) and with all parameters at default values.<br>\n",
    "So we will train all classifiers with a simple fit on the entire training set and calculate their performance on the test set using two metrics, Accuracy and F1-Score."
   ]
  },
  {
   "cell_type": "markdown",
   "metadata": {},
   "source": [
    "#### 4.1 Dummy Classifier\n",
    "\n",
    "Dummy Classifier makes predictions that ignore the input features.<br>\n",
    "In the predict method, the default argument is \"prior\", which always returns the most frequent class label from y_test."
   ]
  },
  {
   "cell_type": "code",
   "execution_count": 13,
   "metadata": {},
   "outputs": [
    {
     "name": "stdout",
     "output_type": "stream",
     "text": [
      "Dummy Classifier:\n",
      "\tAccuracy Score: 0.8388625592417062\n",
      "\tF1-Score: 0.4561855670103093\n"
     ]
    }
   ],
   "source": [
    "dummy_clf = DummyClassifier()\n",
    "dummy_clf.fit(X_train_np, y_train_np)\n",
    "y_predictions_dummy = dummy_clf.predict(X_test_np)\n",
    "accuracy_dummy = dummy_clf.score(X_test_np, y_test_np)\n",
    "f1_score_dummy = f1_score(y_test_np, y_predictions_dummy, average = 'macro')\n",
    "\n",
    "print(\"Dummy Classifier:\\n\\tAccuracy Score: {}\\n\\tF1-Score: {}\".format(accuracy_dummy, f1_score_dummy))"
   ]
  },
  {
   "cell_type": "markdown",
   "metadata": {},
   "source": [
    "#### 4.2 Gaussian Naive Bayes Classifier\n",
    "\n",
    "The Gaussian Naive Bayes Classifier classifies the data into the class with the highest posterior probability, assuming independence between the features of each sample."
   ]
  },
  {
   "cell_type": "code",
   "execution_count": 14,
   "metadata": {},
   "outputs": [
    {
     "name": "stdout",
     "output_type": "stream",
     "text": [
      "Gaussian Naive Bayes Classifier:\n",
      "\tAccuracy Score: 0.8183254344391785\n",
      "\tF1-Score: 0.654333239946247\n"
     ]
    }
   ],
   "source": [
    "gaussian_clf = GaussianNB()\n",
    "gaussian_clf.fit(X_train_np, y_train_np)\n",
    "y_predictions_gaussian = gaussian_clf.predict(X_test_np)\n",
    "accuracy_gaussian = gaussian_clf.score(X_test_np, y_test_np)\n",
    "f1_score_gaussian = f1_score(y_test_np, y_predictions_gaussian, average = 'macro')\n",
    "\n",
    "print(\"Gaussian Naive Bayes Classifier:\\n\\tAccuracy Score: {}\\n\\tF1-Score: {}\".format(accuracy_gaussian, f1_score_gaussian))"
   ]
  },
  {
   "cell_type": "markdown",
   "metadata": {},
   "source": [
    "#### 4.3 k-Nearest Neighbor Classifier\n",
    "\n",
    "k-NN for each sample, finds k nearest neighbors and the class of the sample is the majority among the k neighbors.<br>\n",
    "Here the default value for k is 5. An odd number is usually chosen so that there is no case of equality."
   ]
  },
  {
   "cell_type": "code",
   "execution_count": 15,
   "metadata": {},
   "outputs": [
    {
     "name": "stdout",
     "output_type": "stream",
     "text": [
      "k-Nearest Neighbor Classifier:\n",
      "\tAccuracy Score: 0.8104265402843602\n",
      "\tF1-Score: 0.5840087623220154\n"
     ]
    }
   ],
   "source": [
    "knn_clf = KNeighborsClassifier()\n",
    "knn_clf.fit(X_train_np, y_train_np)\n",
    "y_predictions_knn = knn_clf.predict(X_test_np)\n",
    "accuracy_knn = knn_clf.score(X_test_np, y_test_np)\n",
    "f1_score_knn = f1_score(y_test_np, y_predictions_knn, average = 'macro')\n",
    "\n",
    "print(\"k-Nearest Neighbor Classifier:\\n\\tAccuracy Score: {}\\n\\tF1-Score: {}\".format(accuracy_knn, f1_score_knn))"
   ]
  },
  {
   "cell_type": "markdown",
   "metadata": {},
   "source": [
    "#### Logistic Regression Classifier\n",
    "\n",
    "Logistic Regression is a machine learning classification algorithm used to predict the probability of certain classes based on certain dependent variables. In short, the logistic regression model estimates a sum of input characteristics and calculates its logistic output. The output of logistic regression is always between (0, and 1), which is suitable for a binary classification task. The higher the value, the higher the probability that the current sample is classified as class=1 and vice versa."
   ]
  },
  {
   "cell_type": "code",
   "execution_count": 16,
   "metadata": {},
   "outputs": [
    {
     "name": "stdout",
     "output_type": "stream",
     "text": [
      "Logistic Regression Classifier:\n",
      "\tAccuracy Score: 0.8246445497630331\n",
      "\tF1-Score: 0.5778301178251908\n"
     ]
    }
   ],
   "source": [
    "logistic_regression_clf = LogisticRegression()\n",
    "logistic_regression_clf.fit(X_train_np, y_train_np)\n",
    "y_predictions_lr = logistic_regression_clf.predict(X_test_np)\n",
    "accuracy_lr = logistic_regression_clf.score(X_test_np, y_test_np)\n",
    "f1_score_lr = f1_score(y_test_np, y_predictions_lr, average = 'macro')\n",
    "\n",
    "print(\"Logistic Regression Classifier:\\n\\tAccuracy Score: {}\\n\\tF1-Score: {}\".format(accuracy_lr, f1_score_lr))"
   ]
  },
  {
   "cell_type": "markdown",
   "metadata": {},
   "source": [
    "#### 4.5 MLP Classifier\n",
    "\n",
    "The MLP Classifier has the following default parameters:\n",
    "- ReLu as activation function\n",
    "- learning rate = 0.001\n",
    "- optimizer = adam"
   ]
  },
  {
   "cell_type": "code",
   "execution_count": 17,
   "metadata": {},
   "outputs": [
    {
     "name": "stdout",
     "output_type": "stream",
     "text": [
      "MLP Classifier:\n",
      "\tAccuracy Score: 0.8372827804107424\n",
      "\tF1-Score: 0.45571797076526227\n"
     ]
    }
   ],
   "source": [
    "mlp_clf = MLPClassifier()\n",
    "mlp_clf.fit(X_train_np, y_train_np)\n",
    "y_predictions_mlp = mlp_clf.predict(X_test_np)\n",
    "accuracy_mlp = mlp_clf.score(X_test_np, y_test_np)\n",
    "f1_score_mlp = f1_score(y_test_np, y_predictions_mlp, average = 'macro')\n",
    "\n",
    "print(\"MLP Classifier:\\n\\tAccuracy Score: {}\\n\\tF1-Score: {}\".format(accuracy_mlp, f1_score_mlp))"
   ]
  },
  {
   "cell_type": "markdown",
   "metadata": {},
   "source": [
    "#### 4.6 SVM Classifier"
   ]
  },
  {
   "cell_type": "code",
   "execution_count": 18,
   "metadata": {},
   "outputs": [
    {
     "name": "stdout",
     "output_type": "stream",
     "text": [
      "SVM Classifier:\n",
      "\tAccuracy Score: 0.8388625592417062\n",
      "\tF1-Score: 0.5627979414951246\n"
     ]
    }
   ],
   "source": [
    "svm_clf = SVC()\n",
    "svm_clf.fit(X_train_np, y_train_np)\n",
    "y_predictions_svm = svm_clf.predict(X_test_np)\n",
    "accuracy_svm = svm_clf.score(X_test_np, y_test_np)\n",
    "f1_score_svm = f1_score(y_test_np, y_predictions_svm, average = 'macro')\n",
    "\n",
    "print(\"SVM Classifier:\\n\\tAccuracy Score: {}\\n\\tF1-Score: {}\".format(accuracy_svm, f1_score_svm))"
   ]
  },
  {
   "cell_type": "markdown",
   "metadata": {},
   "source": [
    "#### 4.7 Results"
   ]
  },
  {
   "cell_type": "markdown",
   "metadata": {},
   "source": [
    "##### 4.7.1 Metrics\n",
    "\n",
    "To evaluate the classifiers we use 2 metrics: Accuracy and F1-score.\n",
    "\n",
    "**Accuracy:**<br>\n",
    "It is the total number of correct predictions divided by the total number of predictions made for a data set. Accuracy is useful and representative when my data is balanced.\n",
    "\n",
    "**F1-score:**<br>\n",
    "The F1-score tells you how precise the model is, i.e. how many samples it classifies correctly, and how robust it is, i.e. that it doesn't miss a significant number of samples when you check it on the control set. The F1-score is representative, even when my data is unbalanced."
   ]
  },
  {
   "cell_type": "markdown",
   "metadata": {},
   "source": [
    "##### 4.7.2.1 Classifier Results in a Data Frame"
   ]
  },
  {
   "cell_type": "code",
   "execution_count": 19,
   "metadata": {},
   "outputs": [
    {
     "data": {
      "text/html": [
       "<div>\n",
       "<style scoped>\n",
       "    .dataframe tbody tr th:only-of-type {\n",
       "        vertical-align: middle;\n",
       "    }\n",
       "\n",
       "    .dataframe tbody tr th {\n",
       "        vertical-align: top;\n",
       "    }\n",
       "\n",
       "    .dataframe thead th {\n",
       "        text-align: right;\n",
       "    }\n",
       "</style>\n",
       "<table border=\"1\" class=\"dataframe\">\n",
       "  <thead>\n",
       "    <tr style=\"text-align: right;\">\n",
       "      <th></th>\n",
       "      <th>Acuracy</th>\n",
       "      <th>F1-Score</th>\n",
       "    </tr>\n",
       "  </thead>\n",
       "  <tbody>\n",
       "    <tr>\n",
       "      <th>Dummy</th>\n",
       "      <td>0.838863</td>\n",
       "      <td>0.456186</td>\n",
       "    </tr>\n",
       "    <tr>\n",
       "      <th>Gaussian Naive Bayes</th>\n",
       "      <td>0.818325</td>\n",
       "      <td>0.654333</td>\n",
       "    </tr>\n",
       "    <tr>\n",
       "      <th>K-NN</th>\n",
       "      <td>0.810427</td>\n",
       "      <td>0.584009</td>\n",
       "    </tr>\n",
       "    <tr>\n",
       "      <th>Logistic Regression</th>\n",
       "      <td>0.824645</td>\n",
       "      <td>0.577830</td>\n",
       "    </tr>\n",
       "    <tr>\n",
       "      <th>MLP</th>\n",
       "      <td>0.837283</td>\n",
       "      <td>0.455718</td>\n",
       "    </tr>\n",
       "    <tr>\n",
       "      <th>SVM</th>\n",
       "      <td>0.838863</td>\n",
       "      <td>0.562798</td>\n",
       "    </tr>\n",
       "  </tbody>\n",
       "</table>\n",
       "</div>"
      ],
      "text/plain": [
       "                       Acuracy  F1-Score\n",
       "Dummy                 0.838863  0.456186\n",
       "Gaussian Naive Bayes  0.818325  0.654333\n",
       "K-NN                  0.810427  0.584009\n",
       "Logistic Regression   0.824645  0.577830\n",
       "MLP                   0.837283  0.455718\n",
       "SVM                   0.838863  0.562798"
      ]
     },
     "execution_count": 19,
     "metadata": {},
     "output_type": "execute_result"
    }
   ],
   "source": [
    "accuracy_lst = [accuracy_dummy, accuracy_gaussian, accuracy_knn, accuracy_lr, accuracy_mlp, accuracy_svm]\n",
    "f1_score_lst = [f1_score_dummy, f1_score_gaussian, f1_score_knn, f1_score_lr, f1_score_mlp, f1_score_svm]\n",
    "classifier_names_lst = [\"Dummy\", \"Gaussian Naive Bayes\", \"K-NN\", \"Logistic Regression\", \"MLP\", \"SVM\"]\n",
    "\n",
    "out_of_the_box_results_dict = {\n",
    "    'Acuracy': accuracy_lst,\n",
    "    'F1-Score': f1_score_lst\n",
    "}\n",
    "  \n",
    "# Creates pandas DataFrame.\n",
    "out_of_the_box_results_df = pd.DataFrame(out_of_the_box_results_dict, index = classifier_names_lst)\n",
    "out_of_the_box_results_df"
   ]
  },
  {
   "cell_type": "markdown",
   "metadata": {},
   "source": [
    "##### 4.7.3 Comparison of Results using Bar Plot"
   ]
  },
  {
   "cell_type": "code",
   "execution_count": 20,
   "metadata": {},
   "outputs": [
    {
     "data": {
      "image/png": "[encoded data removed]",
      "text/plain": [
       "<Figure size 1500x600 with 1 Axes>"
      ]
     },
     "metadata": {},
     "output_type": "display_data"
    }
   ],
   "source": [
    "ax = out_of_the_box_results_df.plot.bar(rot = 0, title = \"Out of the box results\", figsize = (15, 6))"
   ]
  },
  {
   "cell_type": "markdown",
   "metadata": {},
   "source": [
    "##### 4.7.4 Remarks\n",
    "\n",
    "- We notice that in each classifier the accuracy is much higher than the f1-score. This is because the data set we are considering is not balanced. As we mentioned in section 2.3, 84% of the dataset is b'false', while only 16% of the dataset is b'true'. So it is very likely that our classifiers are not learning well to recognize data belonging to the b'true' class.\n",
    "- Due to the previous remarks, a better evaluation will result if we compare the algorithms with the f1-score, which has representative results even if the data set is not balanced.\n",
    "- The reason why the Dummy Classifier has high Accuracy is because it always returns the most frequent class label, and because the particular data set is unbalanced, it has high Accuracy. On the contrary, compared to the rest of the classifiers, it has the lowest F1-score, which is reasonable.\n",
    "- If we exclude the dummy Classifier (for the reasons mentioned above), then the classifier with the best performance is the Gaussian Naive Bayes Classifier with f1-score = 65%\n"
   ]
  },
  {
   "cell_type": "markdown",
   "metadata": {},
   "source": [
    "# 5. Training with Optimization Methods\n"
   ]
  },
  {
   "cell_type": "markdown",
   "metadata": {},
   "source": [
    "In many classification problems (and machine learning in general) preprocessing is a very important (and often very time-consuming) part of the whole process, but it often has a very large impact on system performance.\n",
    "\n",
    "Preprocessing steps aim to:\n",
    "* To remove or replace missing values from the dataset\n",
    "* In converting categorical variables appropriately so that they can be handled by machine learning algorithms\n",
    "* In selecting or extracting the appropriate features for our model\n",
    "\n",
    "**Our data set has no missing values and no categorical features at all.**"
   ]
  },
  {
   "cell_type": "markdown",
   "metadata": {},
   "source": [
    "### 5.1 Explanation of some preprocessing techniques\n",
    "\n",
    "A very important parameter for the performance of classifiers is the dimensionality of the data, especially with respect to the number of samples available. In general and regardless of the classifier model, performance increases as the quantity and quality of the data increases and as the dimensionality decreases. Conversely, problems become more difficult as the dimensionality increases and the samples are not sufficient to cover all classes of the problem.\n",
    "\n",
    "There are various **dimensionality reduction** techniques. Two techniques are as follows:<br>\n",
    "* **Feature selection:**<br>\n",
    "We remove some features based on a criterion without transforming their values.<br>\n",
    "* **Feature extraction:**<br>\n",
    "We transform the attribute values into new ones (that is, we extract new attributes) but in a space of smaller dimensions."
   ]
  },
  {
   "cell_type": "markdown",
   "metadata": {},
   "source": [
    "#### 5.1.1 Feature Selection\n",
    "A simple feature selection technique is the **Variance threshold**. If the variance of an input feature is too low, it cannot contribute significantly to the discriminative ability of the classifier. Especially in the case that the variance is 0, i.e. the feature has a fixed value for all training samples, it is of no use to the classifier to decide whether a sample belongs to one class or another, and in addition it can complicate other preprocessing procedures such as the normalization of features. We can use the VarianceThreshold function to remove features in the training set that have zero (default) or very low variance."
   ]
  },
  {
   "cell_type": "code",
   "execution_count": 21,
   "metadata": {},
   "outputs": [
    {
     "name": "stdout",
     "output_type": "stream",
     "text": [
      "Variance of every feature:\n",
      "loc                  8.853268e+02\n",
      "v(g)                 1.521595e+01\n",
      "ev(g)                4.842900e+00\n",
      "iv(g)                1.139643e+01\n",
      "n                    6.988939e+03\n",
      "v                    2.665839e+05\n",
      "l                    1.005074e-01\n",
      "d                    6.183692e+01\n",
      "i                    4.622658e+02\n",
      "e                    3.043274e+08\n",
      "b                    3.080254e-02\n",
      "t                    9.392811e+05\n",
      "lOCode               5.850740e+02\n",
      "lOComment            9.518898e+00\n",
      "lOBlank              1.487529e+01\n",
      "locCodeAndComment    4.956480e-01\n",
      "uniq_Op              3.283687e+01\n",
      "uniq_Opnd            1.487357e+02\n",
      "total_Op             2.680760e+03\n",
      "total_Opnd           1.028767e+03\n",
      "branchCount          6.071848e+01\n",
      "dtype: float64\n",
      "\n",
      "Variance statistics:\n",
      "count    2.100000e+01\n",
      "mean     1.454982e+07\n",
      "std      6.639671e+07\n",
      "min      3.080254e-02\n",
      "25%      1.139643e+01\n",
      "50%      6.183692e+01\n",
      "75%      1.028767e+03\n",
      "max      3.043274e+08\n",
      "dtype: float64\n"
     ]
    }
   ],
   "source": [
    "# The variance of every feature.\n",
    "print(\"Variance of every feature:\\n{}\\n\".format(df[feature_names_lst].var()))\n",
    "print(\"Variance statistics:\\n{}\".format(df[feature_names_lst].var().describe()))\n"
   ]
  },
  {
   "cell_type": "markdown",
   "metadata": {},
   "source": [
    "From the above results, we notice that no feature in this dataset has a variance equal to 0.<br>\n",
    "We also notice that the smallest variance has the feature with **b** with a value of **3.080254e-02**, while the next smallest has the feature **l** with a value of **1.005074e-01* * and then **locCodeAndComment** with value **4.956480e-01**"
   ]
  },
  {
   "cell_type": "markdown",
   "metadata": {},
   "source": [
    "#### 5.1.2 Normalization\n",
    "\n",
    "Features with very large differences in their absolute values can cause problems in training and yield classifiers with suboptimal performance.<br>\n",
    "\n",
    "The normalization of the features can be done in 2 basic ways, also known from statistics:\n",
    "* By dividing by the maximum-minimum difference (feature scaling) so the\n",
    "values of all attributes scale linearly in the interval [0,1]\n",
    "* or with the z-score (or standard score) of each characteristic (standardization), which makes the characteristic have a mean value of zero and a variance of one, like the normal distribution.\n",
    "\n",
    "Conversion to standard score is necessary in many classifiers to behave correctly. It is also more resistant than min-max to outlier values, i.e. sporadic values that are very far from the average value and the rest of the characteristic values (min-max will compress most values into a small interval).<br>\n",
    "On the other hand, scaling to [0,1] is less sensitive to very small deviations and also in sparse feature vectors (i.e. with many zero values) its application preserves the zeros, which can be decisive for training speed."
   ]
  },
  {
   "cell_type": "markdown",
   "metadata": {},
   "source": [
    "#### 5.1.3 Balanced Dataset"
   ]
  },
  {
   "cell_type": "markdown",
   "metadata": {},
   "source": [
    "As we have shown above, our data is unbalanced. More specifically, we have a total of 2109 samples of which 1783 (85%) belong to one category and the remaining 326 (15%) belong to the other category.\n",
    "\n",
    "It is known that most classifiers are however trained best when the samples of all classes are relatively equal.\n",
    "\n",
    "There are two basic ways to make a dataset balanced, undersampling and oversampling.<br>\n",
    "**Undersampling:**<br>\n",
    "We randomly remove samples from all categories that have a larger number than the smallest<br>\n",
    "**Oversampling:**<br>\n",
    "We randomly select some examples from the less frequent categories and repeat them.\n",
    "\n",
    "Generally oversampling is more recommended as we don't lose data.\n",
    "\n",
    "It is also important to note that we do not perform any sampling operation on the test set."
   ]
  },
  {
   "cell_type": "code",
   "execution_count": 22,
   "metadata": {},
   "outputs": [
    {
     "name": "stdout",
     "output_type": "stream",
     "text": [
      "Requirement already satisfied: imbalanced-learn in c:\\users\\plust\\anaconda3\\envs\\msc - machine learning\\lib\\site-packages (0.9.0)\n",
      "Collecting imbalanced-learn\n",
      "  Using cached imbalanced_learn-0.9.1-py3-none-any.whl (199 kB)\n",
      "Requirement already satisfied: joblib>=1.0.0 in c:\\users\\plust\\anaconda3\\envs\\msc - machine learning\\lib\\site-packages (from imbalanced-learn) (1.1.1)\n",
      "Requirement already satisfied: numpy>=1.17.3 in c:\\users\\plust\\anaconda3\\envs\\msc - machine learning\\lib\\site-packages (from imbalanced-learn) (1.21.5)\n",
      "Requirement already satisfied: scikit-learn>=1.0.1 in c:\\users\\plust\\anaconda3\\envs\\msc - machine learning\\lib\\site-packages (from imbalanced-learn) (1.0.2)\n",
      "Requirement already satisfied: scipy>=1.1.0 in c:\\users\\plust\\anaconda3\\envs\\msc - machine learning\\lib\\site-packages (from imbalanced-learn) (1.7.3)\n",
      "Requirement already satisfied: threadpoolctl>=2.0.0 in c:\\users\\plust\\anaconda3\\envs\\msc - machine learning\\lib\\site-packages (from imbalanced-learn) (2.2.0)\n"
     ]
    }
   ],
   "source": [
    "!pip install -U imbalanced-learn"
   ]
  },
  {
   "cell_type": "markdown",
   "metadata": {},
   "source": [
    "#### 5.1.4 Feature Extraction"
   ]
  },
  {
   "cell_type": "markdown",
   "metadata": {},
   "source": [
    "As we said before, feature extraction is the technique in which we transform the values of the features into new ones (that is, we extract new features) but in a space of smaller dimensions.\n",
    "\n",
    "The most well-known technique is PCA."
   ]
  },
  {
   "cell_type": "markdown",
   "metadata": {},
   "source": [
    "### 5.2 Grid search\n",
    "\n",
    "An ML procedure consists of a series of transformations on the features of the data ending in an estimator.\n",
    "\n",
    "Transformers are used to pre-process (through transformation) the data.\n",
    "\n",
    "Transformers in general also have hyper-parameters that affect their operation.\n",
    "\n",
    "A trained model estimator (classifier) is composed\n",
    "- a) from its architecture, i.e. the combination of transformers and the choice of the final estimator (the pipeline), and\n",
    "- b) from the (optimal) values of the hyper-parameters of all the previous ones resulting from the cross-validation.\n",
    "\n",
    "The rendering of all possible combinations of transformer hyper-parameters and estimator is done by grid search."
   ]
  },
  {
   "cell_type": "code",
   "execution_count": 23,
   "metadata": {},
   "outputs": [
    {
     "name": "stdout",
     "output_type": "stream",
     "text": [
      "Requirement already satisfied: imbalanced-learn in c:\\users\\plust\\anaconda3\\envs\\msc - machine learning\\lib\\site-packages (0.9.0)\n",
      "Collecting imbalanced-learn\n",
      "  Using cached imbalanced_learn-0.9.1-py3-none-any.whl (199 kB)\n",
      "Requirement already satisfied: joblib>=1.0.0 in c:\\users\\plust\\anaconda3\\envs\\msc - machine learning\\lib\\site-packages (from imbalanced-learn) (1.1.1)\n",
      "Requirement already satisfied: threadpoolctl>=2.0.0 in c:\\users\\plust\\anaconda3\\envs\\msc - machine learning\\lib\\site-packages (from imbalanced-learn) (2.2.0)\n",
      "Requirement already satisfied: scipy>=1.3.2 in c:\\users\\plust\\anaconda3\\envs\\msc - machine learning\\lib\\site-packages (from imbalanced-learn) (1.7.3)\n",
      "Requirement already satisfied: numpy>=1.17.3 in c:\\users\\plust\\anaconda3\\envs\\msc - machine learning\\lib\\site-packages (from imbalanced-learn) (1.21.5)\n",
      "Requirement already satisfied: scikit-learn>=1.0.1 in c:\\users\\plust\\anaconda3\\envs\\msc - machine learning\\lib\\site-packages (from imbalanced-learn) (1.0.2)\n"
     ]
    }
   ],
   "source": [
    "!pip install -U imbalanced-learn"
   ]
  },
  {
   "cell_type": "markdown",
   "metadata": {},
   "source": [
    "We initialize the transformers without hyper-parameters."
   ]
  },
  {
   "cell_type": "code",
   "execution_count": 24,
   "metadata": {},
   "outputs": [],
   "source": [
    "# Init the transformers without hyperparameters.\n",
    "selector = VarianceThreshold()\n",
    "scaler = StandardScaler()\n",
    "ros = RandomOverSampler()\n",
    "pca = PCA()"
   ]
  },
  {
   "cell_type": "markdown",
   "metadata": {},
   "source": [
    "First we study the variance of the variables for the variance threshold. Since we do not have variance=0, we will give the variance threshold as an argument the 4 smallest variance values that our data has."
   ]
  },
  {
   "cell_type": "code",
   "execution_count": 25,
   "metadata": {},
   "outputs": [
    {
     "name": "stdout",
     "output_type": "stream",
     "text": [
      "Variance of every feature:\n",
      "[7.91285660e+02 1.40906000e+01 4.68661135e+00 1.02043959e+01\n",
      " 6.65279561e+03 2.55344076e+05 1.00073577e-01 5.92571167e+01\n",
      " 4.42235883e+02 2.96651300e+08 2.90375729e-02 9.15589738e+05\n",
      " 5.23057757e+02 8.19867473e+00 1.44606876e+01 4.54309604e-01\n",
      " 3.16455313e+01 1.44269615e+02 2.52541582e+03 9.94660264e+02\n",
      " 5.62130800e+01]\n"
     ]
    }
   ],
   "source": [
    "x_train_variances = X_train_np.var(axis = 0) # Find the variance of every feature.\n",
    "print(\"Variance of every feature:\\n{}\".format(x_train_variances))\n",
    "sorted_x_train_variances = np.sort(x_train_variances)\n",
    "# Create a list with the 4 minimum variances.\n",
    "variance_thresholds_lst = [sorted_x_train_variances[0], sorted_x_train_variances[1],sorted_x_train_variances[2],sorted_x_train_variances[3]]\n",
    "\n",
    "number_of_folds = 10"
   ]
  },
  {
   "cell_type": "markdown",
   "metadata": {},
   "source": [
    "GridSearchCV does cross-validation and grid search together."
   ]
  },
  {
   "cell_type": "markdown",
   "metadata": {},
   "source": [
    "**memory = 'tmp'**<br>\n",
    "For each fold of the crossvalidation and for each combination of transform hyperparameters, the data need to be transformed once and not for each new estimator hyperparameter value."
   ]
  },
  {
   "cell_type": "markdown",
   "metadata": {},
   "source": [
    "**Our data consists of 2109 samples with 22 features each. Regarding the dimension of the samples, the number of data could be considered quite satisfactory. So we will examine the classifiers once applying the pca technique and once without applying it.**"
   ]
  },
  {
   "cell_type": "markdown",
   "metadata": {},
   "source": [
    "### 5.2.1 Χρήση PCA"
   ]
  },
  {
   "cell_type": "markdown",
   "metadata": {},
   "source": [
    "**Since we will use the pca technique, it is good to first check the importance of each principal component in our data. For this reason we will check the explained variance of the principal components. Explained variance is a statistical measure of how much variation in a data set can be attributed to each of the principal components (eigenvectors) generated by the PCA method. In general, it refers to the amount of variability in a data set that can be attributed to each individual principal component. That is, it tells us how much of the total variance is \"explained\" by each component. This is important because it allows us to rank items in order of importance and focus on the most important when interpreting the results of our analysis.**"
   ]
  },
  {
   "cell_type": "code",
   "execution_count": 27,
   "metadata": {},
   "outputs": [
    {
     "data": {
      "image/png": "[encoded data removed]",
      "text/plain": [
       "<Figure size 640x480 with 1 Axes>"
      ]
     },
     "metadata": {},
     "output_type": "display_data"
    }
   ],
   "source": [
    "# Scale the dataset; This is very important before you apply PCA\n",
    "sc = StandardScaler()\n",
    "sc.fit(X_train_np)\n",
    "X_train_std = sc.transform(X_train_np)\n",
    "X_test_std = sc.transform(X_test_np)\n",
    "\n",
    "pca = PCA()\n",
    "X_train_pca = pca.fit_transform(X_train_std)\n",
    "\n",
    "# Determine explained variance.\n",
    "exp_var_pca = pca.explained_variance_ratio_\n",
    "\n",
    "# Cumulative sum of eigenvalues; This will be used to create step plot\n",
    "# for visualizing the variance explained by each principal component.\n",
    "cum_sum_eigenvalues = np.cumsum(exp_var_pca)\n",
    "\n",
    "plt.bar(range(0,len(exp_var_pca)), exp_var_pca, alpha=0.5, align='center', label='Individual explained variance')\n",
    "plt.step(range(0,len(cum_sum_eigenvalues)), cum_sum_eigenvalues, where='mid',label='Cumulative explained variance')\n",
    "plt.ylabel('Explained variance ratio')\n",
    "plt.xlabel('Principal component index')\n",
    "plt.legend(loc='best')\n",
    "plt.tight_layout()\n",
    "plt.show()"
   ]
  },
  {
   "cell_type": "markdown",
   "metadata": {},
   "source": [
    "**From the above graph we notice that with 0 principal components we describe 78% of our data, with 1 principal component we describe 81% of our data, with 2 principal components a little more and so on. It is worth noting that after 7 to 8 principal components there is no significant increase. So we'll try for prices until then.**"
   ]
  },
  {
   "cell_type": "code",
   "execution_count": 28,
   "metadata": {},
   "outputs": [],
   "source": [
    "pca_n_components_lst = [1, 2, 3, 4, 5, 6, 7, 8]"
   ]
  },
  {
   "cell_type": "code",
   "execution_count": 29,
   "metadata": {},
   "outputs": [],
   "source": [
    "dummy_clf_strategy_lst = [\"most_frequent\", \"prior\", \"stratified\", \"uniform\"]\n",
    "dummy_clf = DummyClassifier()\n",
    "dummy_pipe = Pipeline(steps = [('selector', selector), ('scaler', scaler), ('sampler', ros), ('pca', pca), ('dummy', dummy_clf)], memory = 'tmp')\n",
    "dummy_estimator = GridSearchCV(dummy_pipe, dict(selector__threshold = variance_thresholds_lst, pca__n_components = pca_n_components_lst, dummy__strategy = dummy_clf_strategy_lst), cv = number_of_folds, scoring = 'f1_macro', n_jobs = -1)\n",
    "\n",
    "gaussian_clf = GaussianNB() \n",
    "gaussian_pipe = Pipeline(steps = [('selector', selector), ('scaler', scaler), ('sampler', ros), ('pca', pca), ('gaussian', gaussian_clf)], memory = 'tmp')\n",
    "gaussian_estimator = GridSearchCV(gaussian_pipe, dict(selector__threshold = variance_thresholds_lst, pca__n_components = pca_n_components_lst), cv = number_of_folds, scoring = 'f1_macro', n_jobs = -1)\n",
    "\n",
    "k_number_of_neighbors_lst = [1, 2, 3, 5, 7, 9, 11]\n",
    "knn_clf = KNeighborsClassifier(n_jobs = -1) # n_jobs = -1: uses all the cores of the cpu.\n",
    "knn_pipe = Pipeline(steps = [('selector', selector), ('scaler', scaler), ('sampler', ros), ('pca', pca), ('kNN', knn_clf)], memory = 'tmp')\n",
    "knn_estimator = GridSearchCV(knn_pipe, dict(selector__threshold = variance_thresholds_lst, pca__n_components = pca_n_components_lst, kNN__n_neighbors = k_number_of_neighbors_lst), cv = number_of_folds, scoring = 'f1_macro', n_jobs = -1)\n",
    "\n",
    "lr_solver_lst = ['newton-cg', 'lbfgs', 'liblinear', 'sag', 'saga']\n",
    "lr_max_iter_lst = [300,500,700]\n",
    "lr_clf = LogisticRegression()\n",
    "lr_pipe = Pipeline(steps = [('selector', selector), ('scaler', scaler), ('sampler', ros), ('pca', pca), ('lr', lr_clf)], memory = 'tmp')\n",
    "lr_estimator = GridSearchCV(lr_pipe, dict(selector__threshold = variance_thresholds_lst, pca__n_components = pca_n_components_lst, lr__solver = lr_solver_lst, lr__max_iter = lr_max_iter_lst), cv = number_of_folds, scoring = 'f1_macro', n_jobs = -1)\n",
    "\n",
    "mlp_hidden_layer_sizes_lst = [(50,), (100,), (150,)]\n",
    "#mlp_activation_fuction_lst = ['logistic', 'tanh', \"relu\"]\n",
    "mlp_solver_lst = ['lbfgs', 'sgd', 'adam']\n",
    "mlp_clf = MLPClassifier()\n",
    "mlp_pipe = Pipeline(steps = [('selector', selector), ('scaler', scaler), ('sampler', ros), ('pca', pca), ('mlp', mlp_clf)], memory = 'tmp')\n",
    "mlp_estimator = GridSearchCV(mlp_pipe, dict(selector__threshold = variance_thresholds_lst, pca__n_components = pca_n_components_lst, mlp__hidden_layer_sizes = mlp_hidden_layer_sizes_lst, mlp__solver = mlp_solver_lst), cv = number_of_folds, scoring = 'f1_macro', n_jobs = -1)\n",
    "\n",
    "svm_kernel_lst = ['linear', 'poly', 'rbf', 'sigmoid']\n",
    "svm_clf = SVC()\n",
    "svm_pipe = Pipeline(steps = [('selector', selector), ('scaler', scaler), ('sampler', ros), ('pca', pca), ('svm', svm_clf)], memory = 'tmp')\n",
    "svm_estimator = GridSearchCV(svm_pipe, dict(selector__threshold = variance_thresholds_lst, pca__n_components = pca_n_components_lst, svm__kernel = svm_kernel_lst), cv = number_of_folds, scoring = 'f1_macro', n_jobs = -1)"
   ]
  },
  {
   "cell_type": "code",
   "execution_count": 30,
   "metadata": {},
   "outputs": [],
   "source": [
    "best_accuracy_lst = []\n",
    "best_f1_score_lst = []\n",
    "estimators_y_predictions_dict = {}\n",
    "total_time_lst = []\n",
    "intermediate_results_lst = []\n",
    "\n",
    "def find_best_estimator(estimator, estimator_name):\n",
    "    print(\"Estimator: {}\\n\".format(estimator_name))\n",
    "    start_time = time.time()\n",
    "    estimator.fit(X_train_np, y_train_np)\n",
    "    y_predictions = estimator.predict(X_test_np)\n",
    "    estimators_y_predictions_dict[estimator_name] = y_predictions\n",
    "    print(\"Total time for fit and predict: %s seconds\" % (time.time() - start_time))\n",
    "    total_time_lst.append((time.time() - start_time))\n",
    "    print(\"Best Estimator: \\n{}\\n\".format(estimator.best_estimator_))\n",
    "    print(\"Best Parameter: \\n{}\\n\".format(estimator.best_params_))\n",
    "    intermediate_results_lst.append(estimator.cv_results_)\n",
    "    clf_report_dict = classification_report(y_test_np, y_predictions, output_dict = True)\n",
    "    print(\"Accuracy: {}\\nF1-Score: {}\".format(clf_report_dict[\"accuracy\"], clf_report_dict[\"macro avg\"][\"f1-score\"]))\n",
    "    best_accuracy_lst.append(clf_report_dict[\"accuracy\"])\n",
    "    best_f1_score_lst.append(clf_report_dict[\"macro avg\"][\"f1-score\"])\n",
    "    print(\"==============================================================================\")"
   ]
  },
  {
   "cell_type": "code",
   "execution_count": 31,
   "metadata": {},
   "outputs": [
    {
     "name": "stdout",
     "output_type": "stream",
     "text": [
      "Estimator: Dummy\n",
      "\n",
      "Total time for fit and predict: 13.602088451385498 seconds\n",
      "Best Estimator: \n",
      "Pipeline(memory='tmp',\n",
      "         steps=[('selector', VarianceThreshold(threshold=0.45430960407165044)),\n",
      "                ('scaler', StandardScaler()), ('sampler', RandomOverSampler()),\n",
      "                ('pca', PCA(n_components=4)),\n",
      "                ('dummy', DummyClassifier(strategy='uniform'))])\n",
      "\n",
      "Best Parameter: \n",
      "{'dummy__strategy': 'uniform', 'pca__n_components': 4, 'selector__threshold': 0.45430960407165044}\n",
      "\n",
      "Accuracy: 0.5134281200631912\n",
      "F1-Score: 0.44306184012066363\n",
      "==============================================================================\n",
      "Estimator: Gaussian Naive Bayes\n",
      "\n",
      "Total time for fit and predict: 2.047985076904297 seconds\n",
      "Best Estimator: \n",
      "Pipeline(memory='tmp',\n",
      "         steps=[('selector', VarianceThreshold(threshold=0.45430960407165044)),\n",
      "                ('scaler', StandardScaler()), ('sampler', RandomOverSampler()),\n",
      "                ('pca', PCA(n_components=6)), ('gaussian', GaussianNB())])\n",
      "\n",
      "Best Parameter: \n",
      "{'pca__n_components': 6, 'selector__threshold': 0.45430960407165044}\n",
      "\n",
      "Accuracy: 0.8246445497630331\n",
      "F1-Score: 0.691332100354518\n",
      "==============================================================================\n",
      "Estimator: K-NN\n",
      "\n",
      "Total time for fit and predict: 58.629998445510864 seconds\n",
      "Best Estimator: \n",
      "Pipeline(memory='tmp',\n",
      "         steps=[('selector', VarianceThreshold(threshold=4.686611346127012)),\n",
      "                ('scaler', StandardScaler()), ('sampler', RandomOverSampler()),\n",
      "                ('pca', PCA(n_components=6)),\n",
      "                ('kNN', KNeighborsClassifier(n_jobs=-1, n_neighbors=3))])\n",
      "\n",
      "Best Parameter: \n",
      "{'kNN__n_neighbors': 3, 'pca__n_components': 6, 'selector__threshold': 4.686611346127012}\n",
      "\n",
      "Accuracy: 0.7883096366508688\n",
      "F1-Score: 0.6680520334366489\n",
      "==============================================================================\n",
      "Estimator: Logistic Regression\n",
      "\n",
      "Total time for fit and predict: 41.183950424194336 seconds\n",
      "Best Estimator: \n",
      "Pipeline(memory='tmp',\n",
      "         steps=[('selector', VarianceThreshold(threshold=4.686611346127012)),\n",
      "                ('scaler', StandardScaler()), ('sampler', RandomOverSampler()),\n",
      "                ('pca', PCA(n_components=1)),\n",
      "                ('lr', LogisticRegression(max_iter=300, solver='newton-cg'))])\n",
      "\n",
      "Best Parameter: \n",
      "{'lr__max_iter': 300, 'lr__solver': 'newton-cg', 'pca__n_components': 1, 'selector__threshold': 4.686611346127012}\n",
      "\n",
      "Accuracy: 0.7756714060031595\n",
      "F1-Score: 0.6620827067669173\n",
      "==============================================================================\n",
      "Estimator: MLP\n",
      "\n",
      "Total time for fit and predict: 1651.3900547027588 seconds\n",
      "Best Estimator: \n",
      "Pipeline(memory='tmp',\n",
      "         steps=[('selector', VarianceThreshold(threshold=0.02903757293755187)),\n",
      "                ('scaler', StandardScaler()), ('sampler', RandomOverSampler()),\n",
      "                ('pca', PCA(n_components=6)),\n",
      "                ('mlp', MLPClassifier(solver='lbfgs'))])\n",
      "\n",
      "Best Parameter: \n",
      "{'mlp__hidden_layer_sizes': (100,), 'mlp__solver': 'lbfgs', 'pca__n_components': 6, 'selector__threshold': 0.02903757293755187}\n",
      "\n",
      "Accuracy: 0.7503949447077409\n",
      "F1-Score: 0.635867823959456\n",
      "==============================================================================\n",
      "Estimator: SVM\n",
      "\n",
      "Total time for fit and predict: 142.26728868484497 seconds\n",
      "Best Estimator: \n",
      "Pipeline(memory='tmp',\n",
      "         steps=[('selector', VarianceThreshold(threshold=0.02903757293755187)),\n",
      "                ('scaler', StandardScaler()), ('sampler', RandomOverSampler()),\n",
      "                ('pca', PCA(n_components=1)), ('svm', SVC(kernel='linear'))])\n",
      "\n",
      "Best Parameter: \n",
      "{'pca__n_components': 1, 'selector__threshold': 0.02903757293755187, 'svm__kernel': 'linear'}\n",
      "\n",
      "Accuracy: 0.7772511848341233\n",
      "F1-Score: 0.6597358037399211\n",
      "==============================================================================\n"
     ]
    }
   ],
   "source": [
    "estimators_dict = {dummy_estimator: \"Dummy\", \n",
    "                   gaussian_estimator: \"Gaussian Naive Bayes\", \n",
    "                   knn_estimator: \"K-NN\", \n",
    "                   lr_estimator: \"Logistic Regression\", \n",
    "                   mlp_estimator: \"MLP\", \n",
    "                   svm_estimator: \"SVM\"}\n",
    "\n",
    "for current_estimator in estimators_dict:\n",
    "    find_best_estimator(current_estimator, estimators_dict[current_estimator])"
   ]
  },
  {
   "cell_type": "markdown",
   "metadata": {},
   "source": [
    "##### 5.2.1.1.1 Classifier Results in a Data Frame"
   ]
  },
  {
   "cell_type": "code",
   "execution_count": 33,
   "metadata": {},
   "outputs": [
    {
     "data": {
      "text/html": [
       "<div>\n",
       "<style scoped>\n",
       "    .dataframe tbody tr th:only-of-type {\n",
       "        vertical-align: middle;\n",
       "    }\n",
       "\n",
       "    .dataframe tbody tr th {\n",
       "        vertical-align: top;\n",
       "    }\n",
       "\n",
       "    .dataframe thead th {\n",
       "        text-align: right;\n",
       "    }\n",
       "</style>\n",
       "<table border=\"1\" class=\"dataframe\">\n",
       "  <thead>\n",
       "    <tr style=\"text-align: right;\">\n",
       "      <th></th>\n",
       "      <th>After Opt Acuracy</th>\n",
       "      <th>Accuracy Difference</th>\n",
       "      <th>After Opt F1-Score</th>\n",
       "      <th>F1-Score Difference</th>\n",
       "      <th>Total Time</th>\n",
       "    </tr>\n",
       "  </thead>\n",
       "  <tbody>\n",
       "    <tr>\n",
       "      <th>Dummy</th>\n",
       "      <td>0.513428</td>\n",
       "      <td>-0.325434</td>\n",
       "      <td>0.443062</td>\n",
       "      <td>-0.013124</td>\n",
       "      <td>13.602088</td>\n",
       "    </tr>\n",
       "    <tr>\n",
       "      <th>Gaussian Naive Bayes</th>\n",
       "      <td>0.824645</td>\n",
       "      <td>0.006319</td>\n",
       "      <td>0.691332</td>\n",
       "      <td>0.036999</td>\n",
       "      <td>2.047985</td>\n",
       "    </tr>\n",
       "    <tr>\n",
       "      <th>K-NN</th>\n",
       "      <td>0.788310</td>\n",
       "      <td>-0.022117</td>\n",
       "      <td>0.668052</td>\n",
       "      <td>0.084043</td>\n",
       "      <td>58.629998</td>\n",
       "    </tr>\n",
       "    <tr>\n",
       "      <th>Logistic Regression</th>\n",
       "      <td>0.775671</td>\n",
       "      <td>-0.048973</td>\n",
       "      <td>0.662083</td>\n",
       "      <td>0.084253</td>\n",
       "      <td>41.183950</td>\n",
       "    </tr>\n",
       "    <tr>\n",
       "      <th>MLP</th>\n",
       "      <td>0.750395</td>\n",
       "      <td>-0.086888</td>\n",
       "      <td>0.635868</td>\n",
       "      <td>0.180150</td>\n",
       "      <td>1651.390055</td>\n",
       "    </tr>\n",
       "    <tr>\n",
       "      <th>SVM</th>\n",
       "      <td>0.777251</td>\n",
       "      <td>-0.061611</td>\n",
       "      <td>0.659736</td>\n",
       "      <td>0.096938</td>\n",
       "      <td>142.267289</td>\n",
       "    </tr>\n",
       "  </tbody>\n",
       "</table>\n",
       "</div>"
      ],
      "text/plain": [
       "                      After Opt Acuracy  Accuracy Difference  \\\n",
       "Dummy                          0.513428            -0.325434   \n",
       "Gaussian Naive Bayes           0.824645             0.006319   \n",
       "K-NN                           0.788310            -0.022117   \n",
       "Logistic Regression            0.775671            -0.048973   \n",
       "MLP                            0.750395            -0.086888   \n",
       "SVM                            0.777251            -0.061611   \n",
       "\n",
       "                      After Opt F1-Score  F1-Score Difference   Total Time  \n",
       "Dummy                           0.443062            -0.013124    13.602088  \n",
       "Gaussian Naive Bayes            0.691332             0.036999     2.047985  \n",
       "K-NN                            0.668052             0.084043    58.629998  \n",
       "Logistic Regression             0.662083             0.084253    41.183950  \n",
       "MLP                             0.635868             0.180150  1651.390055  \n",
       "SVM                             0.659736             0.096938   142.267289  "
      ]
     },
     "execution_count": 33,
     "metadata": {},
     "output_type": "execute_result"
    }
   ],
   "source": [
    "final_results_dict = {\n",
    "    'After Opt Acuracy': best_accuracy_lst,\n",
    "    'Accuracy Difference': np.array(best_accuracy_lst) - np.array(accuracy_lst),\n",
    "    'After Opt F1-Score': best_f1_score_lst,\n",
    "    'F1-Score Difference': np.array(best_f1_score_lst) - np.array(f1_score_lst),\n",
    "    'Total Time': total_time_lst\n",
    "}\n",
    "  \n",
    "# Creates pandas DataFrame.\n",
    "final_results_df = pd.DataFrame(final_results_dict, index = classifier_names_lst)\n",
    "final_results_df"
   ]
  },
  {
   "cell_type": "markdown",
   "metadata": {},
   "source": [
    "##### 5.2.1.2 Comparison of Results using Bar Plot"
   ]
  },
  {
   "cell_type": "code",
   "execution_count": 34,
   "metadata": {},
   "outputs": [
    {
     "data": {
      "image/png": "[encoded data removed]",
      "text/plain": [
       "<Figure size 1500x600 with 1 Axes>"
      ]
     },
     "metadata": {},
     "output_type": "display_data"
    }
   ],
   "source": [
    "final_results_df = pd.DataFrame(\n",
    "    {'Accuracy': accuracy_lst, 'After Opt Accuracy': best_accuracy_lst, 'F1-Score': f1_score_lst, 'After Opt F1-Score': best_f1_score_lst}, index = classifier_names_lst\n",
    ")\n",
    "\n",
    "ax = final_results_df.plot.bar(rot = 0, title = \"Total results with PCA\", figsize = (15, 6))"
   ]
  },
  {
   "cell_type": "markdown",
   "metadata": {},
   "source": [
    "##### 5.2.1.3 Remarks\n",
    "\n",
    "* We notice that the best performance based on the f1-score is the Gaussian Naive Bayes Classifier with a value of f1-score = 0.691332 and accuracy = 0.824645. The preprocessing parameters that gave it the best performance are {'pca__n_components': 6, 'selector__threshold': 0.03089166111257996} with a total time of 2.047985 seconds.\n",
    "\n",
    "* The worst performance based on f1-score after the Dummy Classifier is MLP with a value of f1-score = 0.635868 and accuracy = 0.750395. The preprocessing parameters that led him to this performance are {'mlp__hidden_layer_sizes': (100,), 'mlp__solver': 'lbfgs', 'pca__n_components': 6, 'selector__threshold': 0.02903757293755187} with a total time of 1651.390055 seconds.\n",
    "\n",
    "* We also notice that the Dummy Classifier has no improvement after preprocessing, which makes sense since it doesn't take samples into account at all.\n",
    "\n",
    "* Apart from the dummy Classifier, all other Classifiers, after preprocessing have significantly improved their performance based on the F1-Score."
   ]
  },
  {
   "cell_type": "markdown",
   "metadata": {},
   "source": [
    "##### 5.2.1.5 Confusion Matrix"
   ]
  },
  {
   "cell_type": "code",
   "execution_count": 35,
   "metadata": {},
   "outputs": [
    {
     "data": {
      "text/plain": [
       "<AxesSubplot:>"
      ]
     },
     "execution_count": 35,
     "metadata": {},
     "output_type": "execute_result"
    },
    {
     "data": {
      "image/png": "[encoded data removed]",
      "text/plain": [
       "<Figure size 640x480 with 2 Axes>"
      ]
     },
     "metadata": {},
     "output_type": "display_data"
    }
   ],
   "source": [
    "best_estimator_confusion_matrix = confusion_matrix(y_test_np, estimators_y_predictions_dict[\"Gaussian Naive Bayes\"])\n",
    "sns.heatmap(best_estimator_confusion_matrix/np.sum(best_estimator_confusion_matrix), \n",
    "            annot = True, \n",
    "            fmt = '.2%', \n",
    "            cmap = 'Blues'\n",
    "           )"
   ]
  },
  {
   "cell_type": "code",
   "execution_count": 72,
   "metadata": {
    "scrolled": true
   },
   "outputs": [
    {
     "data": {
      "text/plain": [
       "<AxesSubplot:>"
      ]
     },
     "execution_count": 72,
     "metadata": {},
     "output_type": "execute_result"
    },
    {
     "data": {
      "image/png": "[encoded data removed]",
      "text/plain": [
       "<Figure size 640x480 with 2 Axes>"
      ]
     },
     "metadata": {},
     "output_type": "display_data"
    }
   ],
   "source": [
    "worst_estimator_confusion_matrix = confusion_matrix(y_test_np, estimators_y_predictions_dict[\"MLP\"])\n",
    "sns.heatmap(worst_estimator_confusion_matrix/np.sum(worst_estimator_confusion_matrix), \n",
    "            annot = True, \n",
    "            fmt = '.2%', \n",
    "            cmap = 'Blues'\n",
    "           )"
   ]
  },
  {
   "cell_type": "markdown",
   "metadata": {},
   "source": [
    "### 5.2.2 Without PCA"
   ]
  },
  {
   "cell_type": "code",
   "execution_count": 37,
   "metadata": {},
   "outputs": [],
   "source": [
    "dummy_clf_strategy_lst = [\"most_frequent\", \"prior\", \"stratified\", \"uniform\"]\n",
    "dummy_clf = DummyClassifier()\n",
    "dummy_pipe = Pipeline(steps = [('selector', selector), ('scaler', scaler), ('sampler', ros), ('dummy', dummy_clf)], memory = 'tmp')\n",
    "dummy_estimator = GridSearchCV(dummy_pipe, dict(selector__threshold = variance_thresholds_lst, dummy__strategy = dummy_clf_strategy_lst), cv = number_of_folds, scoring = 'f1_macro', n_jobs = -1)\n",
    "\n",
    "gaussian_clf = GaussianNB() \n",
    "gaussian_pipe = Pipeline(steps = [('selector', selector), ('scaler', scaler), ('sampler', ros), ('gaussian', gaussian_clf)], memory = 'tmp')\n",
    "gaussian_estimator = GridSearchCV(gaussian_pipe, dict(selector__threshold = variance_thresholds_lst), cv = number_of_folds, scoring = 'f1_macro', n_jobs = -1)\n",
    "\n",
    "k_number_of_neighbors_lst = [1, 2, 3, 5, 7, 9, 11]\n",
    "knn_clf = KNeighborsClassifier(n_jobs = -1) # n_jobs = -1: uses all the cores of the cpu.\n",
    "knn_pipe = Pipeline(steps = [('selector', selector), ('scaler', scaler), ('sampler', ros), ('kNN', knn_clf)], memory = 'tmp')\n",
    "knn_estimator = GridSearchCV(knn_pipe, dict(selector__threshold = variance_thresholds_lst, kNN__n_neighbors = k_number_of_neighbors_lst), cv = number_of_folds, scoring = 'f1_macro', n_jobs = -1)\n",
    "\n",
    "lr_solver_lst = ['newton-cg', 'lbfgs', 'liblinear', 'sag', 'saga']\n",
    "lr_max_iter_lst = [300,500,700]\n",
    "lr_clf = LogisticRegression()\n",
    "lr_pipe = Pipeline(steps = [('selector', selector), ('scaler', scaler), ('sampler', ros), ('lr', lr_clf)], memory = 'tmp')\n",
    "lr_estimator = GridSearchCV(lr_pipe, dict(selector__threshold = variance_thresholds_lst, lr__solver = lr_solver_lst, lr__max_iter = lr_max_iter_lst), cv = number_of_folds, scoring = 'f1_macro', n_jobs = -1)\n",
    "\n",
    "mlp_hidden_layer_sizes_lst = [(50,), (100,), (150,)]\n",
    "#mlp_activation_fuction_lst = ['logistic', 'tanh', \"relu\"]\n",
    "mlp_solver_lst = ['lbfgs', 'sgd', 'adam']\n",
    "mlp_clf = MLPClassifier()\n",
    "mlp_pipe = Pipeline(steps = [('selector', selector), ('scaler', scaler), ('sampler', ros), ('mlp', mlp_clf)], memory = 'tmp')\n",
    "mlp_estimator = GridSearchCV(mlp_pipe, dict(selector__threshold = variance_thresholds_lst, mlp__hidden_layer_sizes = mlp_hidden_layer_sizes_lst, mlp__solver = mlp_solver_lst), cv = number_of_folds, scoring = 'f1_macro', n_jobs = -1)\n",
    "\n",
    "svm_kernel_lst = ['linear', 'poly', 'rbf', 'sigmoid']\n",
    "svm_clf = SVC()\n",
    "svm_pipe = Pipeline(steps = [('selector', selector), ('scaler', scaler), ('sampler', ros), ('svm', svm_clf)], memory = 'tmp')\n",
    "svm_estimator = GridSearchCV(svm_pipe, dict(selector__threshold = variance_thresholds_lst, svm__kernel = svm_kernel_lst), cv = number_of_folds, scoring = 'f1_macro', n_jobs = -1)"
   ]
  },
  {
   "cell_type": "code",
   "execution_count": 38,
   "metadata": {},
   "outputs": [],
   "source": [
    "best_accuracy_no_pca_lst = []\n",
    "best_f1_score_no_pca_lst = []\n",
    "estimators_y_predictions_no_pca_dict = {}\n",
    "total_time_no_pca_lst = []\n",
    "intermediate_results_no_pca_lst = []\n",
    "\n",
    "def find_best_estimator_no_pca(estimator, estimator_name):\n",
    "    print(\"Estimator: {}\\n\".format(estimator_name))\n",
    "    start_time = time.time()\n",
    "    estimator.fit(X_train_np, y_train_np)\n",
    "    y_predictions = estimator.predict(X_test_np)\n",
    "    estimators_y_predictions_no_pca_dict[estimator_name] = y_predictions\n",
    "    print(\"Total time for fit and predict: %s seconds\" % (time.time() - start_time))\n",
    "    total_time_no_pca_lst.append((time.time() - start_time))\n",
    "    print(\"Best Estimator: \\n{}\\n\".format(estimator.best_estimator_))\n",
    "    print(\"Best Parameter: \\n{}\\n\".format(estimator.best_params_))\n",
    "    intermediate_results_no_pca_lst.append(estimator.cv_results_)\n",
    "    clf_report_dict = classification_report(y_test_np, y_predictions, output_dict = True)\n",
    "    print(\"Accuracy: {}\\nF1-Score: {}\".format(clf_report_dict[\"accuracy\"], clf_report_dict[\"macro avg\"][\"f1-score\"]))\n",
    "    best_accuracy_no_pca_lst.append(clf_report_dict[\"accuracy\"])\n",
    "    best_f1_score_no_pca_lst.append(clf_report_dict[\"macro avg\"][\"f1-score\"])\n",
    "    print(\"==============================================================================\")"
   ]
  },
  {
   "cell_type": "code",
   "execution_count": 39,
   "metadata": {},
   "outputs": [
    {
     "name": "stdout",
     "output_type": "stream",
     "text": [
      "Estimator: Dummy\n",
      "\n",
      "Total time for fit and predict: 0.85396409034729 seconds\n",
      "Best Estimator: \n",
      "Pipeline(memory='tmp',\n",
      "         steps=[('selector', VarianceThreshold(threshold=0.02903757293755187)),\n",
      "                ('scaler', StandardScaler()), ('sampler', RandomOverSampler()),\n",
      "                ('dummy', DummyClassifier(strategy='most_frequent'))])\n",
      "\n",
      "Best Parameter: \n",
      "{'dummy__strategy': 'most_frequent', 'selector__threshold': 0.02903757293755187}\n",
      "\n",
      "Accuracy: 0.8388625592417062\n",
      "F1-Score: 0.4561855670103093\n",
      "==============================================================================\n",
      "Estimator: Gaussian Naive Bayes\n",
      "\n",
      "Total time for fit and predict: 0.4165608882904053 seconds\n",
      "Best Estimator: \n",
      "Pipeline(memory='tmp',\n",
      "         steps=[('selector', VarianceThreshold(threshold=0.10007357650134768)),\n",
      "                ('scaler', StandardScaler()), ('sampler', RandomOverSampler()),\n",
      "                ('gaussian', GaussianNB())])\n",
      "\n",
      "Best Parameter: \n",
      "{'selector__threshold': 0.10007357650134768}\n",
      "\n",
      "Accuracy: 0.8151658767772512\n",
      "F1-Score: 0.6567897344164901\n",
      "==============================================================================\n",
      "Estimator: K-NN\n",
      "\n",
      "Total time for fit and predict: 7.3045148849487305 seconds\n",
      "Best Estimator: \n",
      "Pipeline(memory='tmp',\n",
      "         steps=[('selector', VarianceThreshold(threshold=4.686611346127012)),\n",
      "                ('scaler', StandardScaler()), ('sampler', RandomOverSampler()),\n",
      "                ('kNN', KNeighborsClassifier(n_jobs=-1, n_neighbors=3))])\n",
      "\n",
      "Best Parameter: \n",
      "{'kNN__n_neighbors': 3, 'selector__threshold': 4.686611346127012}\n",
      "\n",
      "Accuracy: 0.8025276461295419\n",
      "F1-Score: 0.6875407233654381\n",
      "==============================================================================\n",
      "Estimator: Logistic Regression\n",
      "\n",
      "Total time for fit and predict: 44.85740256309509 seconds\n",
      "Best Estimator: \n",
      "Pipeline(memory='tmp',\n",
      "         steps=[('selector', VarianceThreshold(threshold=0.10007357650134768)),\n",
      "                ('scaler', StandardScaler()), ('sampler', RandomOverSampler()),\n",
      "                ('lr', LogisticRegression(max_iter=500, solver='sag'))])\n",
      "\n",
      "Best Parameter: \n",
      "{'lr__max_iter': 500, 'lr__solver': 'sag', 'selector__threshold': 0.10007357650134768}\n",
      "\n",
      "Accuracy: 0.7298578199052133\n",
      "F1-Score: 0.6416898107536422\n",
      "==============================================================================\n",
      "Estimator: MLP\n",
      "\n",
      "Total time for fit and predict: 256.0523889064789 seconds\n",
      "Best Estimator: \n",
      "Pipeline(memory='tmp',\n",
      "         steps=[('selector', VarianceThreshold(threshold=4.686611346127012)),\n",
      "                ('scaler', StandardScaler()), ('sampler', RandomOverSampler()),\n",
      "                ('mlp',\n",
      "                 MLPClassifier(hidden_layer_sizes=(150,), solver='lbfgs'))])\n",
      "\n",
      "Best Parameter: \n",
      "{'mlp__hidden_layer_sizes': (150,), 'mlp__solver': 'lbfgs', 'selector__threshold': 4.686611346127012}\n",
      "\n",
      "Accuracy: 0.7883096366508688\n",
      "F1-Score: 0.6510531512259339\n",
      "==============================================================================\n",
      "Estimator: SVM\n",
      "\n",
      "Total time for fit and predict: 15.31886339187622 seconds\n",
      "Best Estimator: \n",
      "Pipeline(memory='tmp',\n",
      "         steps=[('selector', VarianceThreshold(threshold=0.02903757293755187)),\n",
      "                ('scaler', StandardScaler()), ('sampler', RandomOverSampler()),\n",
      "                ('svm', SVC(kernel='poly'))])\n",
      "\n",
      "Best Parameter: \n",
      "{'selector__threshold': 0.02903757293755187, 'svm__kernel': 'poly'}\n",
      "\n",
      "Accuracy: 0.8388625592417062\n",
      "F1-Score: 0.646407447973713\n",
      "==============================================================================\n"
     ]
    }
   ],
   "source": [
    "estimators_dict = {dummy_estimator: \"Dummy\", \n",
    "                   gaussian_estimator: \"Gaussian Naive Bayes\", \n",
    "                   knn_estimator: \"K-NN\", \n",
    "                   lr_estimator: \"Logistic Regression\", \n",
    "                   mlp_estimator: \"MLP\", \n",
    "                   svm_estimator: \"SVM\"}\n",
    "\n",
    "for current_estimator in estimators_dict:\n",
    "    find_best_estimator_no_pca(current_estimator, estimators_dict[current_estimator])"
   ]
  },
  {
   "cell_type": "markdown",
   "metadata": {},
   "source": [
    "##### 5.2.2.1.1 Classifier Results in a Data Frame"
   ]
  },
  {
   "cell_type": "code",
   "execution_count": 41,
   "metadata": {},
   "outputs": [
    {
     "data": {
      "text/html": [
       "<div>\n",
       "<style scoped>\n",
       "    .dataframe tbody tr th:only-of-type {\n",
       "        vertical-align: middle;\n",
       "    }\n",
       "\n",
       "    .dataframe tbody tr th {\n",
       "        vertical-align: top;\n",
       "    }\n",
       "\n",
       "    .dataframe thead th {\n",
       "        text-align: right;\n",
       "    }\n",
       "</style>\n",
       "<table border=\"1\" class=\"dataframe\">\n",
       "  <thead>\n",
       "    <tr style=\"text-align: right;\">\n",
       "      <th></th>\n",
       "      <th>After Opt Acuracy</th>\n",
       "      <th>Accuracy Difference</th>\n",
       "      <th>After Opt F1-Score</th>\n",
       "      <th>F1-Score Difference</th>\n",
       "      <th>Total Time</th>\n",
       "    </tr>\n",
       "  </thead>\n",
       "  <tbody>\n",
       "    <tr>\n",
       "      <th>Dummy</th>\n",
       "      <td>0.838863</td>\n",
       "      <td>0.000000</td>\n",
       "      <td>0.456186</td>\n",
       "      <td>0.000000</td>\n",
       "      <td>0.853964</td>\n",
       "    </tr>\n",
       "    <tr>\n",
       "      <th>Gaussian Naive Bayes</th>\n",
       "      <td>0.815166</td>\n",
       "      <td>-0.003160</td>\n",
       "      <td>0.656790</td>\n",
       "      <td>0.002456</td>\n",
       "      <td>0.416561</td>\n",
       "    </tr>\n",
       "    <tr>\n",
       "      <th>K-NN</th>\n",
       "      <td>0.802528</td>\n",
       "      <td>-0.007899</td>\n",
       "      <td>0.687541</td>\n",
       "      <td>0.103532</td>\n",
       "      <td>7.304515</td>\n",
       "    </tr>\n",
       "    <tr>\n",
       "      <th>Logistic Regression</th>\n",
       "      <td>0.729858</td>\n",
       "      <td>-0.094787</td>\n",
       "      <td>0.641690</td>\n",
       "      <td>0.063860</td>\n",
       "      <td>44.857403</td>\n",
       "    </tr>\n",
       "    <tr>\n",
       "      <th>MLP</th>\n",
       "      <td>0.788310</td>\n",
       "      <td>-0.048973</td>\n",
       "      <td>0.651053</td>\n",
       "      <td>0.195335</td>\n",
       "      <td>256.052389</td>\n",
       "    </tr>\n",
       "    <tr>\n",
       "      <th>SVM</th>\n",
       "      <td>0.838863</td>\n",
       "      <td>0.000000</td>\n",
       "      <td>0.646407</td>\n",
       "      <td>0.083610</td>\n",
       "      <td>15.318863</td>\n",
       "    </tr>\n",
       "  </tbody>\n",
       "</table>\n",
       "</div>"
      ],
      "text/plain": [
       "                      After Opt Acuracy  Accuracy Difference  \\\n",
       "Dummy                          0.838863             0.000000   \n",
       "Gaussian Naive Bayes           0.815166            -0.003160   \n",
       "K-NN                           0.802528            -0.007899   \n",
       "Logistic Regression            0.729858            -0.094787   \n",
       "MLP                            0.788310            -0.048973   \n",
       "SVM                            0.838863             0.000000   \n",
       "\n",
       "                      After Opt F1-Score  F1-Score Difference  Total Time  \n",
       "Dummy                           0.456186             0.000000    0.853964  \n",
       "Gaussian Naive Bayes            0.656790             0.002456    0.416561  \n",
       "K-NN                            0.687541             0.103532    7.304515  \n",
       "Logistic Regression             0.641690             0.063860   44.857403  \n",
       "MLP                             0.651053             0.195335  256.052389  \n",
       "SVM                             0.646407             0.083610   15.318863  "
      ]
     },
     "execution_count": 41,
     "metadata": {},
     "output_type": "execute_result"
    }
   ],
   "source": [
    "final_results_no_pca_dict = {\n",
    "    'After Opt Acuracy': best_accuracy_no_pca_lst,\n",
    "    'Accuracy Difference': np.array(best_accuracy_no_pca_lst) - np.array(accuracy_lst),\n",
    "    'After Opt F1-Score': best_f1_score_no_pca_lst,\n",
    "    'F1-Score Difference': np.array(best_f1_score_no_pca_lst) - np.array(f1_score_lst),\n",
    "    'Total Time': total_time_no_pca_lst\n",
    "}\n",
    "  \n",
    "# Creates pandas DataFrame.\n",
    "final_results_no_pca_df = pd.DataFrame(final_results_no_pca_dict, index = classifier_names_lst)\n",
    "final_results_no_pca_df"
   ]
  },
  {
   "cell_type": "markdown",
   "metadata": {},
   "source": [
    "##### 5.2.2.2 Comparison of Results using Bar Plot"
   ]
  },
  {
   "cell_type": "code",
   "execution_count": 42,
   "metadata": {},
   "outputs": [
    {
     "data": {
      "image/png": "[encoded data removed]",
      "text/plain": [
       "<Figure size 1500x600 with 1 Axes>"
      ]
     },
     "metadata": {},
     "output_type": "display_data"
    }
   ],
   "source": [
    "final_results_no_pca_df = pd.DataFrame(\n",
    "    {'Accuracy': accuracy_lst, 'After Opt Accuracy': best_accuracy_no_pca_lst, 'F1-Score': f1_score_lst, 'After Opt F1-Score': best_f1_score_no_pca_lst}, index = classifier_names_lst\n",
    ")\n",
    "\n",
    "ax = final_results_no_pca_df.plot.bar(rot = 0, title = \"Total results without PCA\", figsize = (15, 6))"
   ]
  },
  {
   "cell_type": "markdown",
   "metadata": {},
   "source": [
    "##### 5.2.2.3 Remarks\n",
    "\n",
    "* We notice that the best performance based on the f1-score is the KNN Classifier with a value of f1-score = 0.687541 and accuracy = 0.802528. The preprocessing parameters that gave it the best performance are {'kNN__n_neighbors': 3, 'selector__threshold': 4.686611346127012} with a total time of 7.304515 seconds.\n",
    "\n",
    "* The worst performance based on f1-score after the Dummy Classifier is Logistic Reghression with a value of f1-score = 0.641690 and accuracy = 0.729858. The preprocessing parameters that got it to this performance are {'lr__max_iter': 500, 'lr__solver': 'sag', 'selector__threshold': 0.10007357650134768} with a total time of 44.857403 seconds.\n",
    "\n",
    "* We also notice that the Dummy Classifier has no improvement after preprocessing, which makes sense since it doesn't take samples into account at all.\n",
    "\n",
    "* Apart from the dummy Classifier, all other Classifiers, after preprocessing, have significantly improved their performance."
   ]
  },
  {
   "cell_type": "markdown",
   "metadata": {},
   "source": [
    "##### 5.2.2.5 Confusion Matrix"
   ]
  },
  {
   "cell_type": "code",
   "execution_count": 43,
   "metadata": {},
   "outputs": [
    {
     "data": {
      "text/plain": [
       "<AxesSubplot:>"
      ]
     },
     "execution_count": 43,
     "metadata": {},
     "output_type": "execute_result"
    },
    {
     "data": {
      "image/png": "[encoded data removed]",
      "text/plain": [
       "<Figure size 640x480 with 2 Axes>"
      ]
     },
     "metadata": {},
     "output_type": "display_data"
    }
   ],
   "source": [
    "best_estimator_confusion_matrix = confusion_matrix(y_test_np, estimators_y_predictions_no_pca_dict[\"K-NN\"])\n",
    "sns.heatmap(best_estimator_confusion_matrix/np.sum(best_estimator_confusion_matrix), \n",
    "            annot = True, \n",
    "            fmt = '.2%', \n",
    "            cmap = 'Blues'\n",
    "           )"
   ]
  },
  {
   "cell_type": "code",
   "execution_count": 44,
   "metadata": {},
   "outputs": [
    {
     "data": {
      "text/plain": [
       "<AxesSubplot:>"
      ]
     },
     "execution_count": 44,
     "metadata": {},
     "output_type": "execute_result"
    },
    {
     "data": {
      "image/png": "[encoded data removed]",
      "text/plain": [
       "<Figure size 640x480 with 2 Axes>"
      ]
     },
     "metadata": {},
     "output_type": "display_data"
    }
   ],
   "source": [
    "worst_estimator_confusion_matrix = confusion_matrix(y_test_np, estimators_y_predictions_no_pca_dict[\"Logistic Regression\"])\n",
    "sns.heatmap(worst_estimator_confusion_matrix/np.sum(worst_estimator_confusion_matrix), \n",
    "            annot = True, \n",
    "            fmt = '.2%', \n",
    "            cmap = 'Blues'\n",
    "           )"
   ]
  },
  {
   "cell_type": "markdown",
   "metadata": {},
   "source": [
    "**Using the PCA technique in the preprocessing part, Gaussian Naive Bayes Classifier had the best performance with f1-score = 0.691332 while when we did not use the PCA technique in the preprocessing part, K-NN had the best performance with f1- score = 0.687541. The performances of the classifiers are similar and comparing the performance of the other classifiers with and without PCA we could decide that its application to the specific problem could be omitted. Also, it is a given that the preprocessing process helped significantly to improve the performance of the classifiers, something we expected. According to all the above and with what we know about each classifier individually, we would recommend KNN as a classifier for this specific problem.**"
   ]
  }
 ],
 "metadata": {
  "kernelspec": {
   "display_name": "Python 3",
   "language": "python",
   "name": "python3"
  },
  "language_info": {
   "codemirror_mode": {
    "name": "ipython",
    "version": 3
   },
   "file_extension": ".py",
   "mimetype": "text/x-python",
   "name": "python",
   "nbconvert_exporter": "python",
   "pygments_lexer": "ipython3",
   "version": "3.7.6"
  }
 },
 "nbformat": 4,
 "nbformat_minor": 5
}
